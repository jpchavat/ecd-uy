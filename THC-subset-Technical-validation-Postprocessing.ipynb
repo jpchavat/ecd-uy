{
 "cells": [
  {
   "cell_type": "markdown",
   "metadata": {},
   "source": [
    "# ECD-UY: Technical validation of the Total Household Consumption subset (post-processing)\n",
    "\n",
    "This notebook presents the code for processing the intermediate file (calculated at ClusterUY) of the technical validation."
   ]
  },
  {
   "cell_type": "code",
   "execution_count": 1,
   "metadata": {
    "ExecuteTime": {
     "end_time": "2021-05-22T03:05:09.659127Z",
     "start_time": "2021-05-22T03:05:07.444480Z"
    },
    "scrolled": true
   },
   "outputs": [
    {
     "name": "stdout",
     "output_type": "stream",
     "text": [
      "Populating the interactive namespace from numpy and matplotlib\n",
      "Pandas version 1.2.1\n",
      "Available cores: 4\n"
     ]
    },
    {
     "name": "stderr",
     "output_type": "stream",
     "text": [
      "/Users/jp/anaconda3/lib/python3.7/site-packages/IPython/core/magics/pylab.py:160: UserWarning: pylab import has clobbered these variables: ['datetime']\n",
      "`%matplotlib` prevents importing * from pylab and numpy\n",
      "  \"\\n`%matplotlib` prevents importing * from pylab and numpy\"\n"
     ]
    }
   ],
   "source": [
    "# python\n",
    "import datetime\n",
    "from typing import List, Tuple, Union\n",
    "import glob\n",
    "from os.path import join, exists\n",
    "from os import makedirs\n",
    "import warnings\n",
    "from datetime import datetime, timedelta\n",
    "\n",
    "# data-science\n",
    "import pandas as pd\n",
    "import scipy\n",
    "import numpy as np\n",
    "import matplotlib.pyplot as plt\n",
    "import dask.dataframe as dd\n",
    "from dask.distributed import Client, LocalCluster\n",
    "\n",
    "%pylab inline\n",
    "%matplotlib inline\n",
    "plt.rcParams['figure.figsize'] = [18, 5]\n",
    "warnings.filterwarnings('ignore')\n",
    "warnings.simplefilter('ignore')\n",
    "\n",
    "print(\"Pandas version {}\".format(pd.__version__))\n",
    "\n",
    "from dask.system import CPU_COUNT\n",
    "print(\"Available cores: {}\".format(CPU_COUNT), flush=True)"
   ]
  },
  {
   "cell_type": "markdown",
   "metadata": {},
   "source": [
    "## Declare the path where the files are located"
   ]
  },
  {
   "cell_type": "code",
   "execution_count": 2,
   "metadata": {
    "ExecuteTime": {
     "end_time": "2021-05-22T03:05:09.670226Z",
     "start_time": "2021-05-22T03:05:09.663762Z"
    }
   },
   "outputs": [],
   "source": [
    "BASE_PATH = \"../../../datasets/\"\n",
    "BASE_DATA_SOURCE = BASE_PATH + \"/ECD-UY/total-household-subset--preprocess\""
   ]
  },
  {
   "cell_type": "markdown",
   "metadata": {},
   "source": [
    "## Setup local dask cluster"
   ]
  },
  {
   "cell_type": "code",
   "execution_count": 3,
   "metadata": {
    "ExecuteTime": {
     "end_time": "2021-05-22T03:05:12.328280Z",
     "start_time": "2021-05-22T03:05:09.686086Z"
    }
   },
   "outputs": [
    {
     "name": "stdout",
     "output_type": "stream",
     "text": [
      "Generating Dask Client...\n"
     ]
    }
   ],
   "source": [
    "print(\"Generating Dask Client...\", flush=True)\n",
    "client = Client()"
   ]
  },
  {
   "cell_type": "markdown",
   "metadata": {},
   "source": [
    "## Number of records per day, by customer"
   ]
  },
  {
   "cell_type": "markdown",
   "metadata": {},
   "source": [
    "### Load data"
   ]
  },
  {
   "cell_type": "code",
   "execution_count": 4,
   "metadata": {
    "ExecuteTime": {
     "end_time": "2021-05-22T03:05:15.585690Z",
     "start_time": "2021-05-22T03:05:12.335163Z"
    }
   },
   "outputs": [
    {
     "data": {
      "text/html": [
       "<div>\n",
       "<style scoped>\n",
       "    .dataframe tbody tr th:only-of-type {\n",
       "        vertical-align: middle;\n",
       "    }\n",
       "\n",
       "    .dataframe tbody tr th {\n",
       "        vertical-align: top;\n",
       "    }\n",
       "\n",
       "    .dataframe thead th {\n",
       "        text-align: right;\n",
       "    }\n",
       "</style>\n",
       "<table border=\"1\" class=\"dataframe\">\n",
       "  <thead>\n",
       "    <tr style=\"text-align: right;\">\n",
       "      <th></th>\n",
       "      <th>id</th>\n",
       "      <th>datetime</th>\n",
       "      <th>value</th>\n",
       "    </tr>\n",
       "  </thead>\n",
       "  <tbody>\n",
       "    <tr>\n",
       "      <th>0</th>\n",
       "      <td>13</td>\n",
       "      <td>2019-01-01</td>\n",
       "      <td>96</td>\n",
       "    </tr>\n",
       "    <tr>\n",
       "      <th>1</th>\n",
       "      <td>13</td>\n",
       "      <td>2019-01-02</td>\n",
       "      <td>96</td>\n",
       "    </tr>\n",
       "    <tr>\n",
       "      <th>2</th>\n",
       "      <td>13</td>\n",
       "      <td>2019-01-03</td>\n",
       "      <td>96</td>\n",
       "    </tr>\n",
       "    <tr>\n",
       "      <th>3</th>\n",
       "      <td>13</td>\n",
       "      <td>2019-01-04</td>\n",
       "      <td>96</td>\n",
       "    </tr>\n",
       "    <tr>\n",
       "      <th>4</th>\n",
       "      <td>13</td>\n",
       "      <td>2019-01-05</td>\n",
       "      <td>96</td>\n",
       "    </tr>\n",
       "  </tbody>\n",
       "</table>\n",
       "</div>"
      ],
      "text/plain": [
       "   id   datetime  value\n",
       "0  13 2019-01-01     96\n",
       "1  13 2019-01-02     96\n",
       "2  13 2019-01-03     96\n",
       "3  13 2019-01-04     96\n",
       "4  13 2019-01-05     96"
      ]
     },
     "execution_count": 4,
     "metadata": {},
     "output_type": "execute_result"
    }
   ],
   "source": [
    "df_date_count = dd.read_csv(\n",
    "    BASE_DATA_SOURCE + '/consumption_date_count.csv',\n",
    "    delimiter=',',\n",
    "    header=0,\n",
    "    dtype={'id': np.int32, 'value': np.int16, 'datetime': str},\n",
    "    usecols=[\"id\", \"datetime\", \"value\"],\n",
    ")\n",
    "df_date_count[\"datetime\"] = dd.to_datetime(df_date_count.datetime)\n",
    "\n",
    "df_date_count.head()"
   ]
  },
  {
   "cell_type": "code",
   "execution_count": 5,
   "metadata": {
    "ExecuteTime": {
     "end_time": "2021-05-22T03:05:36.430184Z",
     "start_time": "2021-05-22T03:05:15.612119Z"
    }
   },
   "outputs": [
    {
     "data": {
      "text/plain": [
       "110952"
      ]
     },
     "execution_count": 5,
     "metadata": {},
     "output_type": "execute_result"
    }
   ],
   "source": [
    "df_date_count.id.nunique().compute()"
   ]
  },
  {
   "cell_type": "code",
   "execution_count": 6,
   "metadata": {
    "ExecuteTime": {
     "end_time": "2021-05-22T03:05:50.985152Z",
     "start_time": "2021-05-22T03:05:36.434982Z"
    }
   },
   "outputs": [
    {
     "data": {
      "text/plain": [
       "count    5.982334e+07\n",
       "mean     9.515916e+01\n",
       "std      5.932536e+00\n",
       "min      1.000000e+00\n",
       "25%      9.600000e+01\n",
       "50%      9.600000e+01\n",
       "75%      9.600000e+01\n",
       "max      9.600000e+01\n",
       "Name: value, dtype: float64"
      ]
     },
     "execution_count": 6,
     "metadata": {},
     "output_type": "execute_result"
    }
   ],
   "source": [
    "df_date_count.value.describe().compute()"
   ]
  },
  {
   "cell_type": "markdown",
   "metadata": {},
   "source": [
    "### Records per day"
   ]
  },
  {
   "cell_type": "code",
   "execution_count": 7,
   "metadata": {
    "ExecuteTime": {
     "end_time": "2021-05-22T03:06:04.771631Z",
     "start_time": "2021-05-22T03:05:50.991156Z"
    }
   },
   "outputs": [
    {
     "data": {
      "text/plain": [
       "96    57232128\n",
       "95      520555\n",
       "94      197934\n",
       "72      192827\n",
       "81      184373\n",
       "Name: value, dtype: int64"
      ]
     },
     "execution_count": 7,
     "metadata": {},
     "output_type": "execute_result"
    }
   ],
   "source": [
    "days_per_numerofrecords = df_date_count.value.value_counts().compute()\n",
    "days_per_numerofrecords.head()"
   ]
  },
  {
   "cell_type": "code",
   "execution_count": 8,
   "metadata": {
    "ExecuteTime": {
     "end_time": "2021-05-22T03:06:07.880761Z",
     "start_time": "2021-05-22T03:06:04.780960Z"
    }
   },
   "outputs": [
    {
     "data": {
      "image/png": "[encoded data removed]",
      "text/plain": [
       "<Figure size 1296x360 with 1 Axes>"
      ]
     },
     "metadata": {
      "needs_background": "light"
     },
     "output_type": "display_data"
    }
   ],
   "source": [
    "days_per_numerofrecords.sort_index().plot.bar()\n",
    "plt.yscale('log', nonposy='clip')"
   ]
  },
  {
   "cell_type": "code",
   "execution_count": 9,
   "metadata": {
    "ExecuteTime": {
     "end_time": "2021-05-22T03:06:07.948892Z",
     "start_time": "2021-05-22T03:06:07.895758Z"
    }
   },
   "outputs": [
    {
     "data": {
      "text/html": [
       "<div>\n",
       "<style scoped>\n",
       "    .dataframe tbody tr th:only-of-type {\n",
       "        vertical-align: middle;\n",
       "    }\n",
       "\n",
       "    .dataframe tbody tr th {\n",
       "        vertical-align: top;\n",
       "    }\n",
       "\n",
       "    .dataframe thead th {\n",
       "        text-align: right;\n",
       "    }\n",
       "</style>\n",
       "<table border=\"1\" class=\"dataframe\">\n",
       "  <thead>\n",
       "    <tr style=\"text-align: right;\">\n",
       "      <th></th>\n",
       "      <th>num_days</th>\n",
       "      <th>share</th>\n",
       "    </tr>\n",
       "  </thead>\n",
       "  <tbody>\n",
       "    <tr>\n",
       "      <th>(91, 96]</th>\n",
       "      <td>58122666</td>\n",
       "      <td>97.157168</td>\n",
       "    </tr>\n",
       "    <tr>\n",
       "      <th>(86, 91]</th>\n",
       "      <td>355269</td>\n",
       "      <td>0.593864</td>\n",
       "    </tr>\n",
       "    <tr>\n",
       "      <th>(81, 86]</th>\n",
       "      <td>92690</td>\n",
       "      <td>0.154940</td>\n",
       "    </tr>\n",
       "    <tr>\n",
       "      <th>(76, 81]</th>\n",
       "      <td>289154</td>\n",
       "      <td>0.483346</td>\n",
       "    </tr>\n",
       "    <tr>\n",
       "      <th>(72, 76]</th>\n",
       "      <td>76332</td>\n",
       "      <td>0.127596</td>\n",
       "    </tr>\n",
       "    <tr>\n",
       "      <th>(0, 72]</th>\n",
       "      <td>887232</td>\n",
       "      <td>1.483087</td>\n",
       "    </tr>\n",
       "  </tbody>\n",
       "</table>\n",
       "</div>"
      ],
      "text/plain": [
       "          num_days      share\n",
       "(91, 96]  58122666  97.157168\n",
       "(86, 91]    355269   0.593864\n",
       "(81, 86]     92690   0.154940\n",
       "(76, 81]    289154   0.483346\n",
       "(72, 76]     76332   0.127596\n",
       "(0, 72]     887232   1.483087"
      ]
     },
     "execution_count": 9,
     "metadata": {},
     "output_type": "execute_result"
    }
   ],
   "source": [
    "bins = pd.cut(days_per_numerofrecords.index, [0, 72, 76, 81, 86, 91, 96])\n",
    "# days_per_numerofrecords.reset_index().groupby(\"index\")\n",
    "days_and_records = pd.DataFrame({\"num_days\": days_per_numerofrecords.groupby(bins).sum()})\n",
    "\n",
    "days_and_records[\"share\"] = (days_and_records.num_days * 100) / days_and_records.num_days.sum()\n",
    "\n",
    "days_and_records.sort_index(ascending=False)\n",
    "# print(days_and_records.sort_index(ascending=False).to_latex())\n"
   ]
  },
  {
   "cell_type": "code",
   "execution_count": 10,
   "metadata": {
    "ExecuteTime": {
     "end_time": "2021-05-22T03:13:38.501097Z",
     "start_time": "2021-05-22T03:06:07.962919Z"
    }
   },
   "outputs": [
    {
     "data": {
      "image/png": "[encoded data removed]",
      "text/plain": [
       "<Figure size 1296x360 with 1 Axes>"
      ]
     },
     "metadata": {
      "needs_background": "light"
     },
     "output_type": "display_data"
    }
   ],
   "source": [
    "plt.hist(df_date_count.value, bins=[(96/10)*x for x in range(11)])\n",
    "plt.yscale('log', nonposy='clip')\n",
    "plt.xticks([(96/10)*x for x in range(11)])\n",
    "plt.show()"
   ]
  },
  {
   "cell_type": "markdown",
   "metadata": {},
   "source": [
    "### Days by customer"
   ]
  },
  {
   "cell_type": "code",
   "execution_count": 11,
   "metadata": {
    "ExecuteTime": {
     "end_time": "2021-05-22T03:13:54.128919Z",
     "start_time": "2021-05-22T03:13:38.509399Z"
    }
   },
   "outputs": [
    {
     "data": {
      "text/html": [
       "<div>\n",
       "<style scoped>\n",
       "    .dataframe tbody tr th:only-of-type {\n",
       "        vertical-align: middle;\n",
       "    }\n",
       "\n",
       "    .dataframe tbody tr th {\n",
       "        vertical-align: top;\n",
       "    }\n",
       "\n",
       "    .dataframe thead th {\n",
       "        text-align: right;\n",
       "    }\n",
       "</style>\n",
       "<table border=\"1\" class=\"dataframe\">\n",
       "  <thead>\n",
       "    <tr style=\"text-align: right;\">\n",
       "      <th></th>\n",
       "      <th>datetime</th>\n",
       "      <th>value</th>\n",
       "    </tr>\n",
       "    <tr>\n",
       "      <th>id</th>\n",
       "      <th></th>\n",
       "      <th></th>\n",
       "    </tr>\n",
       "  </thead>\n",
       "  <tbody>\n",
       "    <tr>\n",
       "      <th>3</th>\n",
       "      <td>557</td>\n",
       "      <td>557</td>\n",
       "    </tr>\n",
       "    <tr>\n",
       "      <th>10</th>\n",
       "      <td>554</td>\n",
       "      <td>554</td>\n",
       "    </tr>\n",
       "    <tr>\n",
       "      <th>13</th>\n",
       "      <td>650</td>\n",
       "      <td>650</td>\n",
       "    </tr>\n",
       "    <tr>\n",
       "      <th>14</th>\n",
       "      <td>675</td>\n",
       "      <td>675</td>\n",
       "    </tr>\n",
       "    <tr>\n",
       "      <th>16</th>\n",
       "      <td>577</td>\n",
       "      <td>577</td>\n",
       "    </tr>\n",
       "  </tbody>\n",
       "</table>\n",
       "</div>"
      ],
      "text/plain": [
       "    datetime  value\n",
       "id                 \n",
       "3        557    557\n",
       "10       554    554\n",
       "13       650    650\n",
       "14       675    675\n",
       "16       577    577"
      ]
     },
     "execution_count": 11,
     "metadata": {},
     "output_type": "execute_result"
    }
   ],
   "source": [
    "df_days_per_cust = df_date_count.groupby(\"id\").count().compute()\n",
    "df_days_per_cust.head()"
   ]
  },
  {
   "cell_type": "code",
   "execution_count": 12,
   "metadata": {
    "ExecuteTime": {
     "end_time": "2021-05-22T03:14:11.131489Z",
     "start_time": "2021-05-22T03:13:54.134215Z"
    }
   },
   "outputs": [
    {
     "data": {
      "text/html": [
       "<div>\n",
       "<style scoped>\n",
       "    .dataframe tbody tr th:only-of-type {\n",
       "        vertical-align: middle;\n",
       "    }\n",
       "\n",
       "    .dataframe tbody tr th {\n",
       "        vertical-align: top;\n",
       "    }\n",
       "\n",
       "    .dataframe thead th {\n",
       "        text-align: right;\n",
       "    }\n",
       "</style>\n",
       "<table border=\"1\" class=\"dataframe\">\n",
       "  <thead>\n",
       "    <tr style=\"text-align: right;\">\n",
       "      <th></th>\n",
       "      <th>datetime</th>\n",
       "      <th>value</th>\n",
       "    </tr>\n",
       "    <tr>\n",
       "      <th>id</th>\n",
       "      <th></th>\n",
       "      <th></th>\n",
       "    </tr>\n",
       "  </thead>\n",
       "  <tbody>\n",
       "    <tr>\n",
       "      <th>3</th>\n",
       "      <td>545</td>\n",
       "      <td>545</td>\n",
       "    </tr>\n",
       "    <tr>\n",
       "      <th>10</th>\n",
       "      <td>544</td>\n",
       "      <td>544</td>\n",
       "    </tr>\n",
       "    <tr>\n",
       "      <th>13</th>\n",
       "      <td>641</td>\n",
       "      <td>641</td>\n",
       "    </tr>\n",
       "    <tr>\n",
       "      <th>14</th>\n",
       "      <td>663</td>\n",
       "      <td>663</td>\n",
       "    </tr>\n",
       "    <tr>\n",
       "      <th>16</th>\n",
       "      <td>565</td>\n",
       "      <td>565</td>\n",
       "    </tr>\n",
       "  </tbody>\n",
       "</table>\n",
       "</div>"
      ],
      "text/plain": [
       "    datetime  value\n",
       "id                 \n",
       "3        545    545\n",
       "10       544    544\n",
       "13       641    641\n",
       "14       663    663\n",
       "16       565    565"
      ]
     },
     "execution_count": 12,
     "metadata": {},
     "output_type": "execute_result"
    }
   ],
   "source": [
    "# Take into account only the customers with at least 95% of records per day\n",
    "df_days_per_cust_95 = df_date_count[\n",
    "    df_date_count.value > 91  # 96 * 95% = 91.2\n",
    "].groupby(\"id\").count().compute()\n",
    "df_days_per_cust_95.head()"
   ]
  },
  {
   "cell_type": "code",
   "execution_count": 13,
   "metadata": {
    "ExecuteTime": {
     "end_time": "2021-05-22T03:14:11.159774Z",
     "start_time": "2021-05-22T03:14:11.133723Z"
    }
   },
   "outputs": [
    {
     "data": {
      "text/plain": [
       "count    110952.000000\n",
       "mean        539.182196\n",
       "std          96.898511\n",
       "min           1.000000\n",
       "25%         466.000000\n",
       "50%         536.000000\n",
       "75%         619.000000\n",
       "max         677.000000\n",
       "Name: datetime, dtype: float64"
      ]
     },
     "execution_count": 13,
     "metadata": {},
     "output_type": "execute_result"
    }
   ],
   "source": [
    "df_days_per_cust.datetime.describe()"
   ]
  },
  {
   "cell_type": "code",
   "execution_count": 14,
   "metadata": {
    "ExecuteTime": {
     "end_time": "2021-05-22T03:14:11.185629Z",
     "start_time": "2021-05-22T03:14:11.164827Z"
    }
   },
   "outputs": [
    {
     "data": {
      "text/plain": [
       "count    110670.000000\n",
       "mean        525.188994\n",
       "std         101.991508\n",
       "min           1.000000\n",
       "25%         453.000000\n",
       "50%         524.000000\n",
       "75%         606.000000\n",
       "max         676.000000\n",
       "Name: datetime, dtype: float64"
      ]
     },
     "execution_count": 14,
     "metadata": {},
     "output_type": "execute_result"
    }
   ],
   "source": [
    "df_days_per_cust_95.datetime.describe()"
   ]
  },
  {
   "cell_type": "code",
   "execution_count": 15,
   "metadata": {
    "ExecuteTime": {
     "end_time": "2021-05-22T03:14:12.082165Z",
     "start_time": "2021-05-22T03:14:11.196061Z"
    },
    "scrolled": true
   },
   "outputs": [
    {
     "data": {
      "image/png": "[encoded data removed]",
      "text/plain": [
       "<Figure size 1296x360 with 1 Axes>"
      ]
     },
     "metadata": {
      "needs_background": "light"
     },
     "output_type": "display_data"
    }
   ],
   "source": [
    "bins = range(0, df_days_per_cust.datetime.max() + 60, 60)\n",
    "\n",
    "_ = plt.hist([df_days_per_cust.datetime, df_days_per_cust_95.datetime], bins=bins)\n",
    "_ = plt.legend([\"All the days\", \"Days with at least\\n95% of the records\"], fontsize=18)\n",
    "_ = plt.xlabel(\"Number of days\", fontsize=18)\n",
    "_ = plt.ylabel(\"Number of customers\", fontsize=18)\n",
    "_ = plt.xticks(bins, fontsize=18)\n",
    "_ = plt.yticks(fontsize=18)\n",
    "plt.grid(True, axis='y')"
   ]
  },
  {
   "cell_type": "code",
   "execution_count": 16,
   "metadata": {
    "ExecuteTime": {
     "end_time": "2021-05-22T03:14:12.235928Z",
     "start_time": "2021-05-22T03:14:12.140876Z"
    }
   },
   "outputs": [
    {
     "data": {
      "text/plain": [
       "datetime\n",
       "(0, 60]         297\n",
       "(60, 120]       114\n",
       "(120, 180]      111\n",
       "(180, 240]      176\n",
       "(240, 300]      241\n",
       "(300, 360]      355\n",
       "(360, 420]    11870\n",
       "(420, 480]    18630\n",
       "(480, 540]    25643\n",
       "(540, 600]    21010\n",
       "(600, 660]    14105\n",
       "(660, 720]    18400\n",
       "Name: datetime, dtype: int64"
      ]
     },
     "execution_count": 16,
     "metadata": {},
     "output_type": "execute_result"
    }
   ],
   "source": [
    "df_days_per_cust.datetime.groupby(pd.cut(df_days_per_cust.datetime, range(0, 731, 60))).count()"
   ]
  },
  {
   "cell_type": "code",
   "execution_count": 17,
   "metadata": {
    "ExecuteTime": {
     "end_time": "2021-05-22T03:14:33.041847Z",
     "start_time": "2021-05-22T03:14:12.277793Z"
    }
   },
   "outputs": [
    {
     "data": {
      "text/html": [
       "<div>\n",
       "<style scoped>\n",
       "    .dataframe tbody tr th:only-of-type {\n",
       "        vertical-align: middle;\n",
       "    }\n",
       "\n",
       "    .dataframe tbody tr th {\n",
       "        vertical-align: top;\n",
       "    }\n",
       "\n",
       "    .dataframe thead th {\n",
       "        text-align: right;\n",
       "    }\n",
       "</style>\n",
       "<table border=\"1\" class=\"dataframe\">\n",
       "  <thead>\n",
       "    <tr style=\"text-align: right;\">\n",
       "      <th></th>\n",
       "      <th>days_allrecords</th>\n",
       "      <th>days_95records</th>\n",
       "      <th>days_allrecords_perc</th>\n",
       "      <th>days_95records_perc</th>\n",
       "    </tr>\n",
       "    <tr>\n",
       "      <th>datetime</th>\n",
       "      <th></th>\n",
       "      <th></th>\n",
       "      <th></th>\n",
       "      <th></th>\n",
       "    </tr>\n",
       "  </thead>\n",
       "  <tbody>\n",
       "    <tr>\n",
       "      <th>(660, 690]</th>\n",
       "      <td>18400</td>\n",
       "      <td>0.0</td>\n",
       "      <td>16.583748</td>\n",
       "      <td>0.000000</td>\n",
       "    </tr>\n",
       "    <tr>\n",
       "      <th>(600, 660]</th>\n",
       "      <td>14105</td>\n",
       "      <td>14820.0</td>\n",
       "      <td>12.712705</td>\n",
       "      <td>15.347175</td>\n",
       "    </tr>\n",
       "    <tr>\n",
       "      <th>(540, 600]</th>\n",
       "      <td>21010</td>\n",
       "      <td>19032.0</td>\n",
       "      <td>18.936117</td>\n",
       "      <td>19.709004</td>\n",
       "    </tr>\n",
       "    <tr>\n",
       "      <th>(480, 540]</th>\n",
       "      <td>25643</td>\n",
       "      <td>26148.0</td>\n",
       "      <td>23.111796</td>\n",
       "      <td>27.078134</td>\n",
       "    </tr>\n",
       "    <tr>\n",
       "      <th>(420, 480]</th>\n",
       "      <td>18630</td>\n",
       "      <td>20069.0</td>\n",
       "      <td>16.791045</td>\n",
       "      <td>20.782892</td>\n",
       "    </tr>\n",
       "    <tr>\n",
       "      <th>(360, 420]</th>\n",
       "      <td>11870</td>\n",
       "      <td>13768.0</td>\n",
       "      <td>10.698320</td>\n",
       "      <td>14.257754</td>\n",
       "    </tr>\n",
       "    <tr>\n",
       "      <th>(300, 360]</th>\n",
       "      <td>355</td>\n",
       "      <td>858.0</td>\n",
       "      <td>0.319958</td>\n",
       "      <td>0.888521</td>\n",
       "    </tr>\n",
       "    <tr>\n",
       "      <th>(240, 300]</th>\n",
       "      <td>241</td>\n",
       "      <td>590.0</td>\n",
       "      <td>0.217211</td>\n",
       "      <td>0.610987</td>\n",
       "    </tr>\n",
       "    <tr>\n",
       "      <th>(180, 240]</th>\n",
       "      <td>176</td>\n",
       "      <td>368.0</td>\n",
       "      <td>0.158627</td>\n",
       "      <td>0.381090</td>\n",
       "    </tr>\n",
       "    <tr>\n",
       "      <th>(120, 180]</th>\n",
       "      <td>111</td>\n",
       "      <td>231.0</td>\n",
       "      <td>0.100043</td>\n",
       "      <td>0.239217</td>\n",
       "    </tr>\n",
       "    <tr>\n",
       "      <th>(60, 120]</th>\n",
       "      <td>114</td>\n",
       "      <td>221.0</td>\n",
       "      <td>0.102747</td>\n",
       "      <td>0.228861</td>\n",
       "    </tr>\n",
       "    <tr>\n",
       "      <th>(0, 60]</th>\n",
       "      <td>297</td>\n",
       "      <td>460.0</td>\n",
       "      <td>0.267683</td>\n",
       "      <td>0.476363</td>\n",
       "    </tr>\n",
       "  </tbody>\n",
       "</table>\n",
       "</div>"
      ],
      "text/plain": [
       "            days_allrecords  days_95records  days_allrecords_perc  \\\n",
       "datetime                                                            \n",
       "(660, 690]            18400             0.0             16.583748   \n",
       "(600, 660]            14105         14820.0             12.712705   \n",
       "(540, 600]            21010         19032.0             18.936117   \n",
       "(480, 540]            25643         26148.0             23.111796   \n",
       "(420, 480]            18630         20069.0             16.791045   \n",
       "(360, 420]            11870         13768.0             10.698320   \n",
       "(300, 360]              355           858.0              0.319958   \n",
       "(240, 300]              241           590.0              0.217211   \n",
       "(180, 240]              176           368.0              0.158627   \n",
       "(120, 180]              111           231.0              0.100043   \n",
       "(60, 120]               114           221.0              0.102747   \n",
       "(0, 60]                 297           460.0              0.267683   \n",
       "\n",
       "            days_95records_perc  \n",
       "datetime                         \n",
       "(660, 690]             0.000000  \n",
       "(600, 660]            15.347175  \n",
       "(540, 600]            19.709004  \n",
       "(480, 540]            27.078134  \n",
       "(420, 480]            20.782892  \n",
       "(360, 420]            14.257754  \n",
       "(300, 360]             0.888521  \n",
       "(240, 300]             0.610987  \n",
       "(180, 240]             0.381090  \n",
       "(120, 180]             0.239217  \n",
       "(60, 120]              0.228861  \n",
       "(0, 60]                0.476363  "
      ]
     },
     "execution_count": 17,
     "metadata": {},
     "output_type": "execute_result"
    }
   ],
   "source": [
    "max_days = df_days_per_cust.datetime.max()\n",
    "intervals_index = pd.cut(df_days_per_cust.datetime, list(range(0, max_days, 60)) + [690])\n",
    "df_daysinterval_per_cust = pd.DataFrame(\n",
    "    {\n",
    "        \"days_allrecords\": df_days_per_cust.datetime.groupby(intervals_index).count(),\n",
    "        \"days_95records\": df_days_per_cust_95.datetime.groupby(pd.cut(df_days_per_cust_95.datetime, range(0, max_days, 60))).count(),\n",
    "    },\n",
    "    index=intervals_index\n",
    ")\n",
    "df_daysinterval_per_cust.fillna(0, inplace=True)\n",
    "\n",
    "df_daysinterval_per_cust = df_daysinterval_per_cust.sort_index(ascending=False).drop_duplicates()\n",
    "\n",
    "df_daysinterval_per_cust[\"days_allrecords_perc\"] = (df_daysinterval_per_cust[\"days_allrecords\"]*100)/df_daysinterval_per_cust[\"days_allrecords\"].sum()\n",
    "df_daysinterval_per_cust[\"days_95records_perc\"]  = (df_daysinterval_per_cust[\"days_95records\"] *100)/df_daysinterval_per_cust[\"days_95records\"].sum()\n",
    "\n",
    "df_daysinterval_per_cust"
   ]
  },
  {
   "cell_type": "code",
   "execution_count": 18,
   "metadata": {
    "ExecuteTime": {
     "end_time": "2021-05-22T03:14:33.072864Z",
     "start_time": "2021-05-22T03:14:33.047931Z"
    }
   },
   "outputs": [
    {
     "data": {
      "text/plain": [
       "datetime\n",
       "[0, 365)        2809\n",
       "[365, 730)    107861\n",
       "Name: datetime, dtype: int64"
      ]
     },
     "execution_count": 18,
     "metadata": {},
     "output_type": "execute_result"
    }
   ],
   "source": [
    "df_days_per_cust_95.datetime.groupby(pd.cut(df_days_per_cust_95.datetime, [0,365,730], right=False)).count()"
   ]
  },
  {
   "cell_type": "code",
   "execution_count": 19,
   "metadata": {
    "ExecuteTime": {
     "end_time": "2021-05-22T03:14:34.944062Z",
     "start_time": "2021-05-22T03:14:33.081782Z"
    }
   },
   "outputs": [
    {
     "data": {
      "text/html": [
       "<div>\n",
       "<style scoped>\n",
       "    .dataframe tbody tr th:only-of-type {\n",
       "        vertical-align: middle;\n",
       "    }\n",
       "\n",
       "    .dataframe tbody tr th {\n",
       "        vertical-align: top;\n",
       "    }\n",
       "\n",
       "    .dataframe thead th {\n",
       "        text-align: right;\n",
       "    }\n",
       "</style>\n",
       "<table border=\"1\" class=\"dataframe\">\n",
       "  <thead>\n",
       "    <tr style=\"text-align: right;\">\n",
       "      <th></th>\n",
       "      <th>days_allrecords</th>\n",
       "      <th>days_95records</th>\n",
       "      <th>days_allrecords_perc</th>\n",
       "      <th>days_95records_perc</th>\n",
       "    </tr>\n",
       "    <tr>\n",
       "      <th>datetime</th>\n",
       "      <th></th>\n",
       "      <th></th>\n",
       "      <th></th>\n",
       "      <th></th>\n",
       "    </tr>\n",
       "  </thead>\n",
       "  <tbody>\n",
       "    <tr>\n",
       "      <th>[365, 730)</th>\n",
       "      <td>109627</td>\n",
       "      <td>107861</td>\n",
       "      <td>98.80579</td>\n",
       "      <td>97.461823</td>\n",
       "    </tr>\n",
       "    <tr>\n",
       "      <th>[0, 365)</th>\n",
       "      <td>1325</td>\n",
       "      <td>2809</td>\n",
       "      <td>1.19421</td>\n",
       "      <td>2.538177</td>\n",
       "    </tr>\n",
       "  </tbody>\n",
       "</table>\n",
       "</div>"
      ],
      "text/plain": [
       "            days_allrecords  days_95records  days_allrecords_perc  \\\n",
       "datetime                                                            \n",
       "[365, 730)           109627          107861              98.80579   \n",
       "[0, 365)               1325            2809               1.19421   \n",
       "\n",
       "            days_95records_perc  \n",
       "datetime                         \n",
       "[365, 730)            97.461823  \n",
       "[0, 365)               2.538177  "
      ]
     },
     "execution_count": 19,
     "metadata": {},
     "output_type": "execute_result"
    }
   ],
   "source": [
    "# max_days = df_days_per_cust.datetime.max()\n",
    "intervals_index    = pd.cut(df_days_per_cust.datetime,    range(0, 740, 365), right=False)\n",
    "intervals_index_95 = pd.cut(df_days_per_cust_95.datetime, range(0, 740, 365), right=False)\n",
    "df_daysinterval_per_cust_yearly = pd.DataFrame(\n",
    "    {\n",
    "        \"days_allrecords\": df_days_per_cust.datetime.groupby(intervals_index).count(),\n",
    "        \"days_95records\": df_days_per_cust_95.datetime.groupby(intervals_index_95).count(),\n",
    "    },\n",
    "    index=intervals_index\n",
    ")\n",
    "df_daysinterval_per_cust_yearly.fillna(0, inplace=True)\n",
    "\n",
    "df_daysinterval_per_cust_yearly = df_daysinterval_per_cust_yearly.sort_index(ascending=False).drop_duplicates()\n",
    "\n",
    "df_daysinterval_per_cust_yearly[\"days_allrecords_perc\"] = (df_daysinterval_per_cust_yearly[\"days_allrecords\"]*100)/df_daysinterval_per_cust_yearly[\"days_allrecords\"].sum()\n",
    "df_daysinterval_per_cust_yearly[\"days_95records_perc\"]  = (df_daysinterval_per_cust_yearly[\"days_95records\"] *100)/df_daysinterval_per_cust_yearly[\"days_95records\"].sum()\n",
    "\n",
    "df_daysinterval_per_cust_yearly"
   ]
  },
  {
   "cell_type": "code",
   "execution_count": 20,
   "metadata": {
    "ExecuteTime": {
     "end_time": "2021-05-22T03:14:34.965345Z",
     "start_time": "2021-05-22T03:14:34.952568Z"
    }
   },
   "outputs": [
    {
     "data": {
      "text/plain": [
       "days_allrecords         110952.0\n",
       "days_95records           96565.0\n",
       "days_allrecords_perc       100.0\n",
       "days_95records_perc        100.0\n",
       "dtype: float64"
      ]
     },
     "execution_count": 20,
     "metadata": {},
     "output_type": "execute_result"
    }
   ],
   "source": [
    "df_daysinterval_per_cust.sum()"
   ]
  },
  {
   "cell_type": "code",
   "execution_count": 21,
   "metadata": {
    "ExecuteTime": {
     "end_time": "2021-05-22T03:14:35.025742Z",
     "start_time": "2021-05-22T03:14:34.970435Z"
    }
   },
   "outputs": [
    {
     "name": "stdout",
     "output_type": "stream",
     "text": [
      "\\begin{tabular}{lrrrr}\n",
      "\\toprule\n",
      "{} &  days\\_allrecords &  days\\_95records &  days\\_allrecords\\_perc &  days\\_95records\\_perc \\\\\n",
      "datetime   &                  &                 &                       &                      \\\\\n",
      "\\midrule\n",
      "(660, 690] &            18400 &             0.0 &             16.583748 &             0.000000 \\\\\n",
      "(600, 660] &            14105 &         14820.0 &             12.712705 &            15.347175 \\\\\n",
      "(540, 600] &            21010 &         19032.0 &             18.936117 &            19.709004 \\\\\n",
      "(480, 540] &            25643 &         26148.0 &             23.111796 &            27.078134 \\\\\n",
      "(420, 480] &            18630 &         20069.0 &             16.791045 &            20.782892 \\\\\n",
      "(360, 420] &            11870 &         13768.0 &             10.698320 &            14.257754 \\\\\n",
      "(300, 360] &              355 &           858.0 &              0.319958 &             0.888521 \\\\\n",
      "(240, 300] &              241 &           590.0 &              0.217211 &             0.610987 \\\\\n",
      "(180, 240] &              176 &           368.0 &              0.158627 &             0.381090 \\\\\n",
      "(120, 180] &              111 &           231.0 &              0.100043 &             0.239217 \\\\\n",
      "(60, 120]  &              114 &           221.0 &              0.102747 &             0.228861 \\\\\n",
      "(0, 60]    &              297 &           460.0 &              0.267683 &             0.476363 \\\\\n",
      "\\bottomrule\n",
      "\\end{tabular}\n",
      "\n"
     ]
    }
   ],
   "source": [
    "print(df_daysinterval_per_cust.to_latex())"
   ]
  },
  {
   "cell_type": "markdown",
   "metadata": {},
   "source": [
    "## 15-minutes mean consumption"
   ]
  },
  {
   "cell_type": "markdown",
   "metadata": {},
   "source": [
    "### Load data"
   ]
  },
  {
   "cell_type": "code",
   "execution_count": 22,
   "metadata": {
    "ExecuteTime": {
     "end_time": "2021-05-22T03:14:35.138379Z",
     "start_time": "2021-05-22T03:14:35.033073Z"
    },
    "scrolled": true
   },
   "outputs": [
    {
     "data": {
      "text/html": [
       "<div>\n",
       "<style scoped>\n",
       "    .dataframe tbody tr th:only-of-type {\n",
       "        vertical-align: middle;\n",
       "    }\n",
       "\n",
       "    .dataframe tbody tr th {\n",
       "        vertical-align: top;\n",
       "    }\n",
       "\n",
       "    .dataframe thead th {\n",
       "        text-align: right;\n",
       "    }\n",
       "</style>\n",
       "<table border=\"1\" class=\"dataframe\">\n",
       "  <thead>\n",
       "    <tr style=\"text-align: right;\">\n",
       "      <th></th>\n",
       "      <th>datetime</th>\n",
       "      <th>datetime.1</th>\n",
       "      <th>value</th>\n",
       "      <th>hour</th>\n",
       "    </tr>\n",
       "  </thead>\n",
       "  <tbody>\n",
       "    <tr>\n",
       "      <th>0</th>\n",
       "      <td>0</td>\n",
       "      <td>0</td>\n",
       "      <td>0.096</td>\n",
       "      <td>00:00</td>\n",
       "    </tr>\n",
       "    <tr>\n",
       "      <th>1</th>\n",
       "      <td>0</td>\n",
       "      <td>15</td>\n",
       "      <td>0.091</td>\n",
       "      <td>00:15</td>\n",
       "    </tr>\n",
       "    <tr>\n",
       "      <th>2</th>\n",
       "      <td>0</td>\n",
       "      <td>30</td>\n",
       "      <td>0.087</td>\n",
       "      <td>00:30</td>\n",
       "    </tr>\n",
       "    <tr>\n",
       "      <th>3</th>\n",
       "      <td>0</td>\n",
       "      <td>45</td>\n",
       "      <td>0.083</td>\n",
       "      <td>00:45</td>\n",
       "    </tr>\n",
       "    <tr>\n",
       "      <th>4</th>\n",
       "      <td>1</td>\n",
       "      <td>0</td>\n",
       "      <td>0.079</td>\n",
       "      <td>01:00</td>\n",
       "    </tr>\n",
       "  </tbody>\n",
       "</table>\n",
       "</div>"
      ],
      "text/plain": [
       "  datetime datetime.1  value   hour\n",
       "0        0          0  0.096  00:00\n",
       "1        0         15  0.091  00:15\n",
       "2        0         30  0.087  00:30\n",
       "3        0         45  0.083  00:45\n",
       "4        1          0  0.079  01:00"
      ]
     },
     "execution_count": 22,
     "metadata": {},
     "output_type": "execute_result"
    }
   ],
   "source": [
    "df_15min_mean_consum = dd.read_csv(\n",
    "    BASE_DATA_SOURCE + '/consumption_15min_mean.csv',\n",
    "    delimiter=',',\n",
    "    header=0,\n",
    "    dtype={'value': np.float, 'datetime': str, 'datetime.1': str},\n",
    ")\n",
    "df_15min_mean_consum[\"hour\"] = df_15min_mean_consum.datetime.str.zfill(2) + \":\" + df_15min_mean_consum[\"datetime.1\"].str.zfill(2)\n",
    "\n",
    "df_15min_mean_consum = df_15min_mean_consum.compute()\n",
    "df_15min_mean_consum.head()"
   ]
  },
  {
   "cell_type": "markdown",
   "metadata": {},
   "source": [
    "### Plot"
   ]
  },
  {
   "cell_type": "code",
   "execution_count": 23,
   "metadata": {
    "ExecuteTime": {
     "end_time": "2021-05-22T03:14:35.822199Z",
     "start_time": "2021-05-22T03:14:35.150037Z"
    }
   },
   "outputs": [
    {
     "data": {
      "image/png": "[encoded data removed]",
      "text/plain": [
       "<Figure size 1296x360 with 1 Axes>"
      ]
     },
     "metadata": {
      "needs_background": "light"
     },
     "output_type": "display_data"
    }
   ],
   "source": [
    "df_15min_mean_consum.plot.bar(x=\"hour\", y=\"value\", legend=False, rot=0)\n",
    "# _ = plt.legend([], fontsize=18)\n",
    "_ = plt.xlabel(\"Hour of the day\", fontsize=18)\n",
    "_ = plt.ylabel(\"Mean energy consumption (kWh)\", fontsize=18)\n",
    "_ = plt.xticks(range(0, 96, 6), fontsize=18)\n",
    "_ = plt.yticks(fontsize=18)\n",
    "plt.grid(True, axis='y')"
   ]
  },
  {
   "cell_type": "code",
   "execution_count": 24,
   "metadata": {
    "ExecuteTime": {
     "end_time": "2021-05-22T03:14:36.056378Z",
     "start_time": "2021-05-22T03:14:35.833307Z"
    }
   },
   "outputs": [
    {
     "data": {
      "image/png": "[encoded data removed]",
      "text/plain": [
       "<Figure size 1296x360 with 1 Axes>"
      ]
     },
     "metadata": {
      "needs_background": "light"
     },
     "output_type": "display_data"
    }
   ],
   "source": [
    "df_15min_mean_consum.plot(x=\"hour\", y=\"value\", legend=False)\n",
    "_ = plt.xlabel(\"Hour of the day\", fontsize=18)\n",
    "_ = plt.ylabel(\"Mean energy consumption (kWh)\", fontsize=18)\n",
    "_ = plt.xticks(fontsize=18)\n",
    "_ = plt.yticks(fontsize=18)\n",
    "plt.grid(True, axis='y')"
   ]
  }
 ],
 "metadata": {
  "hide_input": false,
  "kernelspec": {
   "display_name": "Python 3",
   "language": "python",
   "name": "python3"
  },
  "language_info": {
   "codemirror_mode": {
    "name": "ipython",
    "version": 3
   },
   "file_extension": ".py",
   "mimetype": "text/x-python",
   "name": "python",
   "nbconvert_exporter": "python",
   "pygments_lexer": "ipython3",
   "version": "3.7.7"
  },
  "toc": {
   "base_numbering": 1,
   "nav_menu": {},
   "number_sections": true,
   "sideBar": true,
   "skip_h1_title": false,
   "title_cell": "Table of Contents",
   "title_sidebar": "Contents",
   "toc_cell": false,
   "toc_position": {},
   "toc_section_display": true,
   "toc_window_display": false
  },
  "varInspector": {
   "cols": {
    "lenName": 16,
    "lenType": 16,
    "lenVar": 40
   },
   "kernels_config": {
    "python": {
     "delete_cmd_postfix": "",
     "delete_cmd_prefix": "del ",
     "library": "var_list.py",
     "varRefreshCmd": "print(var_dic_list())"
    },
    "r": {
     "delete_cmd_postfix": ") ",
     "delete_cmd_prefix": "rm(",
     "library": "var_list.r",
     "varRefreshCmd": "cat(var_dic_list()) "
    }
   },
   "types_to_exclude": [
    "module",
    "function",
    "builtin_function_or_method",
    "instance",
    "_Feature"
   ],
   "window_display": false
  }
 },
 "nbformat": 4,
 "nbformat_minor": 4
}
