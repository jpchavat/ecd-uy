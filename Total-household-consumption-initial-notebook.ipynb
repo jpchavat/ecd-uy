{
 "cells": [
  {
   "cell_type": "markdown",
   "metadata": {},
   "source": [
    "# ECD-UY: Total household consumption\n",
    "\n",
    "This notebook presents the minimum code steps to load the subset and start to work with its records."
   ]
  },
  {
   "cell_type": "code",
   "execution_count": 6,
   "metadata": {
    "ExecuteTime": {
     "end_time": "2020-08-04T20:19:34.611634Z",
     "start_time": "2020-08-04T20:19:34.576578Z"
    },
    "scrolled": true
   },
   "outputs": [
    {
     "name": "stdout",
     "output_type": "stream",
     "text": [
      "Populating the interactive namespace from numpy and matplotlib\n",
      "Pandas version 1.0.5\n",
      "Available cores: 4\n"
     ]
    }
   ],
   "source": [
    "# python\n",
    "import datetime\n",
    "from typing import List, Tuple, Union\n",
    "import glob\n",
    "from os.path import join, exists\n",
    "from os import makedirs\n",
    "import warnings\n",
    "from datetime import datetime, timedelta\n",
    "\n",
    "# data-science\n",
    "import pandas as pd\n",
    "import scipy\n",
    "import numpy as np\n",
    "import matplotlib.pyplot as plt\n",
    "import ciso8601\n",
    "import dask.dataframe as dd\n",
    "from dask.distributed import Client, LocalCluster\n",
    "\n",
    "%pylab inline\n",
    "%matplotlib inline\n",
    "plt.rcParams['figure.figsize'] = [18, 5]\n",
    "warnings.filterwarnings('ignore')\n",
    "warnings.simplefilter('ignore')\n",
    "\n",
    "print(\"Pandas version {}\".format(pd.__version__))\n",
    "\n",
    "import multiprocessing\n",
    "ava_cores = multiprocessing.cpu_count()\n",
    "print(\"Available cores: {}\".format(ava_cores), flush=True)"
   ]
  },
  {
   "cell_type": "markdown",
   "metadata": {},
   "source": [
    "## Download the subset"
   ]
  },
  {
   "cell_type": "code",
   "execution_count": 2,
   "metadata": {
    "ExecuteTime": {
     "end_time": "2020-08-04T20:16:10.958590Z",
     "start_time": "2020-08-04T20:16:10.668357Z"
    }
   },
   "outputs": [
    {
     "name": "stdout",
     "output_type": "stream",
     "text": [
      "  % Total    % Received % Xferd  Average Speed   Time    Time     Time  Current\n",
      "                                 Dload  Upload   Total   Spent    Left  Speed\n",
      "  0     0    0     0    0     0      0      0 --:--:-- --:--:-- --:--:--     0curl: (6) Could not resolve host: url-to-repo\n",
      "tar: Error opening archive: Failed to open 'electric-water-heater.tar.gz'\n"
     ]
    }
   ],
   "source": [
    "!curl -O https://url-to-repo/ecd-uy/total-household-consumption-subset.tar.gz\n",
    "!tar xzf electric-water-heater.tar.gz"
   ]
  },
  {
   "cell_type": "markdown",
   "metadata": {},
   "source": [
    "## Declare the path where the files are located"
   ]
  },
  {
   "cell_type": "code",
   "execution_count": 3,
   "metadata": {
    "ExecuteTime": {
     "end_time": "2020-08-04T20:17:08.946733Z",
     "start_time": "2020-08-04T20:17:08.936041Z"
    }
   },
   "outputs": [],
   "source": [
    "BASE_DATA_SOURCE   = \"../../DATOS-UTE-SMARTMETER-REDUCIDO-STANDARDIZED\"\n",
    "# BASE_DATA_SOURCE = \"./total-household-consumption-subset\""
   ]
  },
  {
   "cell_type": "markdown",
   "metadata": {},
   "source": [
    "## Setup local dask cluster"
   ]
  },
  {
   "cell_type": "code",
   "execution_count": 7,
   "metadata": {
    "ExecuteTime": {
     "end_time": "2020-08-04T20:19:39.347457Z",
     "start_time": "2020-08-04T20:19:37.511033Z"
    }
   },
   "outputs": [
    {
     "name": "stdout",
     "output_type": "stream",
     "text": [
      "Generating LocalCluster...\n",
      "Generating Client...\n",
      "Scaling cluster...\n"
     ]
    }
   ],
   "source": [
    "print(\"Generating LocalCluster...\", flush=True)\n",
    "cluster = LocalCluster()\n",
    "print(\"Generating Client...\", flush=True)\n",
    "client = Client(cluster)\n",
    "\n",
    "print(\"Scaling cluster...\", flush=True)\n",
    "cluster.scale(ava_cores)"
   ]
  },
  {
   "cell_type": "markdown",
   "metadata": {},
   "source": [
    "## Load customers data"
   ]
  },
  {
   "cell_type": "code",
   "execution_count": 8,
   "metadata": {
    "ExecuteTime": {
     "end_time": "2020-08-04T20:20:53.057005Z",
     "start_time": "2020-08-04T20:20:52.916280Z"
    }
   },
   "outputs": [
    {
     "data": {
      "text/html": [
       "<div>\n",
       "<style scoped>\n",
       "    .dataframe tbody tr th:only-of-type {\n",
       "        vertical-align: middle;\n",
       "    }\n",
       "\n",
       "    .dataframe tbody tr th {\n",
       "        vertical-align: top;\n",
       "    }\n",
       "\n",
       "    .dataframe thead th {\n",
       "        text-align: right;\n",
       "    }\n",
       "</style>\n",
       "<table border=\"1\" class=\"dataframe\">\n",
       "  <thead>\n",
       "    <tr style=\"text-align: right;\">\n",
       "      <th></th>\n",
       "      <th>customer_id</th>\n",
       "      <th>tension</th>\n",
       "      <th>tariff</th>\n",
       "      <th>power</th>\n",
       "      <th>meter_id</th>\n",
       "    </tr>\n",
       "  </thead>\n",
       "  <tbody>\n",
       "    <tr>\n",
       "      <th>0</th>\n",
       "      <td>33862</td>\n",
       "      <td>BT 230 V</td>\n",
       "      <td>TRS</td>\n",
       "      <td>3000.0</td>\n",
       "      <td>6351056</td>\n",
       "    </tr>\n",
       "    <tr>\n",
       "      <th>1</th>\n",
       "      <td>88697</td>\n",
       "      <td>BT 230 V</td>\n",
       "      <td>TCB</td>\n",
       "      <td>3700.0</td>\n",
       "      <td>14658952</td>\n",
       "    </tr>\n",
       "    <tr>\n",
       "      <th>2</th>\n",
       "      <td>75370</td>\n",
       "      <td>BT 230 V</td>\n",
       "      <td>TRS</td>\n",
       "      <td>2200.0</td>\n",
       "      <td>12529163</td>\n",
       "    </tr>\n",
       "    <tr>\n",
       "      <th>3</th>\n",
       "      <td>42277</td>\n",
       "      <td>BT 230 V</td>\n",
       "      <td>TRS</td>\n",
       "      <td>2200.0</td>\n",
       "      <td>7441463</td>\n",
       "    </tr>\n",
       "    <tr>\n",
       "      <th>4</th>\n",
       "      <td>127741</td>\n",
       "      <td>BT 230 V</td>\n",
       "      <td>TRS</td>\n",
       "      <td>2200.0</td>\n",
       "      <td>7318303</td>\n",
       "    </tr>\n",
       "  </tbody>\n",
       "</table>\n",
       "</div>"
      ],
      "text/plain": [
       "   customer_id   tension tariff   power  meter_id\n",
       "0        33862  BT 230 V    TRS  3000.0   6351056\n",
       "1        88697  BT 230 V    TCB  3700.0  14658952\n",
       "2        75370  BT 230 V    TRS  2200.0  12529163\n",
       "3        42277  BT 230 V    TRS  2200.0   7441463\n",
       "4       127741  BT 230 V    TRS  2200.0   7318303"
      ]
     },
     "execution_count": 8,
     "metadata": {},
     "output_type": "execute_result"
    }
   ],
   "source": [
    "data_customers = pd.read_csv(\n",
    "    BASE_DATA_SOURCE + '/customers.csv',\n",
    ")\n",
    "data_customers.head()"
   ]
  },
  {
   "cell_type": "markdown",
   "metadata": {},
   "source": [
    "## Load total consumption data "
   ]
  },
  {
   "cell_type": "code",
   "execution_count": 9,
   "metadata": {
    "ExecuteTime": {
     "end_time": "2020-08-04T20:22:13.509969Z",
     "start_time": "2020-08-04T20:22:11.662963Z"
    }
   },
   "outputs": [
    {
     "data": {
      "text/html": [
       "<div>\n",
       "<style scoped>\n",
       "    .dataframe tbody tr th:only-of-type {\n",
       "        vertical-align: middle;\n",
       "    }\n",
       "\n",
       "    .dataframe tbody tr th {\n",
       "        vertical-align: top;\n",
       "    }\n",
       "\n",
       "    .dataframe thead th {\n",
       "        text-align: right;\n",
       "    }\n",
       "</style>\n",
       "<table border=\"1\" class=\"dataframe\">\n",
       "  <thead>\n",
       "    <tr style=\"text-align: right;\">\n",
       "      <th></th>\n",
       "      <th>datetime</th>\n",
       "      <th>meter_id</th>\n",
       "      <th>value</th>\n",
       "    </tr>\n",
       "  </thead>\n",
       "  <tbody>\n",
       "    <tr>\n",
       "      <th>0</th>\n",
       "      <td>1539876600</td>\n",
       "      <td>8425902</td>\n",
       "      <td>0.000</td>\n",
       "    </tr>\n",
       "    <tr>\n",
       "      <th>1</th>\n",
       "      <td>1539877500</td>\n",
       "      <td>8425902</td>\n",
       "      <td>0.265</td>\n",
       "    </tr>\n",
       "    <tr>\n",
       "      <th>2</th>\n",
       "      <td>1539878400</td>\n",
       "      <td>8425902</td>\n",
       "      <td>0.298</td>\n",
       "    </tr>\n",
       "    <tr>\n",
       "      <th>3</th>\n",
       "      <td>1539879300</td>\n",
       "      <td>8425902</td>\n",
       "      <td>0.233</td>\n",
       "    </tr>\n",
       "    <tr>\n",
       "      <th>4</th>\n",
       "      <td>1539880200</td>\n",
       "      <td>8425902</td>\n",
       "      <td>0.352</td>\n",
       "    </tr>\n",
       "    <tr>\n",
       "      <th>...</th>\n",
       "      <td>...</td>\n",
       "      <td>...</td>\n",
       "      <td>...</td>\n",
       "    </tr>\n",
       "    <tr>\n",
       "      <th>32546</th>\n",
       "      <td>1569897000</td>\n",
       "      <td>28627077</td>\n",
       "      <td>0.102</td>\n",
       "    </tr>\n",
       "    <tr>\n",
       "      <th>32547</th>\n",
       "      <td>1569897900</td>\n",
       "      <td>28627077</td>\n",
       "      <td>0.093</td>\n",
       "    </tr>\n",
       "    <tr>\n",
       "      <th>32548</th>\n",
       "      <td>1569897900</td>\n",
       "      <td>28627207</td>\n",
       "      <td>0.037</td>\n",
       "    </tr>\n",
       "    <tr>\n",
       "      <th>0</th>\n",
       "      <td>1569898800</td>\n",
       "      <td>28627077</td>\n",
       "      <td>0.104</td>\n",
       "    </tr>\n",
       "    <tr>\n",
       "      <th>1</th>\n",
       "      <td>1569898800</td>\n",
       "      <td>28627207</td>\n",
       "      <td>0.063</td>\n",
       "    </tr>\n",
       "  </tbody>\n",
       "</table>\n",
       "<p>199996 rows × 3 columns</p>\n",
       "</div>"
      ],
      "text/plain": [
       "         datetime  meter_id  value\n",
       "0      1539876600   8425902  0.000\n",
       "1      1539877500   8425902  0.265\n",
       "2      1539878400   8425902  0.298\n",
       "3      1539879300   8425902  0.233\n",
       "4      1539880200   8425902  0.352\n",
       "...           ...       ...    ...\n",
       "32546  1569897000  28627077  0.102\n",
       "32547  1569897900  28627077  0.093\n",
       "32548  1569897900  28627207  0.037\n",
       "0      1569898800  28627077  0.104\n",
       "1      1569898800  28627207  0.063\n",
       "\n",
       "[199996 rows x 3 columns]"
      ]
     },
     "execution_count": 9,
     "metadata": {},
     "output_type": "execute_result"
    }
   ],
   "source": [
    "data_total_cons = dd.read_csv(\n",
    "    BASE_DATA_SOURCE + '/consumption_data_*.csv',\n",
    ")\n",
    "\n",
    "data_total_cons.compute()"
   ]
  },
  {
   "cell_type": "markdown",
   "metadata": {},
   "source": [
    "## Example\n",
    "Average total consumption per hour of the day."
   ]
  },
  {
   "cell_type": "code",
   "execution_count": 15,
   "metadata": {
    "ExecuteTime": {
     "end_time": "2020-08-04T20:39:58.969505Z",
     "start_time": "2020-08-04T20:39:58.014569Z"
    }
   },
   "outputs": [
    {
     "data": {
      "text/plain": [
       "<matplotlib.axes._subplots.AxesSubplot at 0x7fa7c1f44f60>"
      ]
     },
     "execution_count": 15,
     "metadata": {},
     "output_type": "execute_result"
    },
    {
     "data": {
      "image/png": "[encoded data removed]",
      "text/plain": [
       "<Figure size 1296x360 with 1 Axes>"
      ]
     },
     "metadata": {
      "needs_background": "light"
     },
     "output_type": "display_data"
    }
   ],
   "source": [
    "data_total_cons['datetime'] = dd.to_datetime(data_total_cons.datetime, unit='s')\n",
    "data_total_cons.groupby(data_total_cons.datetime.dt.hour).mean().compute().plot(y='value')"
   ]
  },
  {
   "cell_type": "code",
   "execution_count": null,
   "metadata": {},
   "outputs": [],
   "source": []
  }
 ],
 "metadata": {
  "hide_input": false,
  "kernelspec": {
   "display_name": "Python 3",
   "language": "python",
   "name": "python3"
  },
  "language_info": {
   "codemirror_mode": {
    "name": "ipython",
    "version": 3
   },
   "file_extension": ".py",
   "mimetype": "text/x-python",
   "name": "python",
   "nbconvert_exporter": "python",
   "pygments_lexer": "ipython3",
   "version": "3.7.3"
  },
  "toc": {
   "base_numbering": 1,
   "nav_menu": {},
   "number_sections": true,
   "sideBar": true,
   "skip_h1_title": false,
   "title_cell": "Table of Contents",
   "title_sidebar": "Contents",
   "toc_cell": false,
   "toc_position": {},
   "toc_section_display": true,
   "toc_window_display": false
  },
  "varInspector": {
   "cols": {
    "lenName": 16,
    "lenType": 16,
    "lenVar": 40
   },
   "kernels_config": {
    "python": {
     "delete_cmd_postfix": "",
     "delete_cmd_prefix": "del ",
     "library": "var_list.py",
     "varRefreshCmd": "print(var_dic_list())"
    },
    "r": {
     "delete_cmd_postfix": ") ",
     "delete_cmd_prefix": "rm(",
     "library": "var_list.r",
     "varRefreshCmd": "cat(var_dic_list()) "
    }
   },
   "types_to_exclude": [
    "module",
    "function",
    "builtin_function_or_method",
    "instance",
    "_Feature"
   ],
   "window_display": false
  }
 },
 "nbformat": 4,
 "nbformat_minor": 4
}
