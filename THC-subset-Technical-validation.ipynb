{
 "cells": [
  {
   "cell_type": "markdown",
   "metadata": {},
   "source": [
    "# ECD-UY: Technical validation of the Total Household Consumption subset\n",
    "\n",
    "This notebook presents the minimum code steps to load the subset and start to work with its records."
   ]
  },
  {
   "cell_type": "code",
   "execution_count": 1,
   "metadata": {
    "ExecuteTime": {
     "end_time": "2021-10-08T08:36:28.394579Z",
     "start_time": "2021-10-08T08:36:25.025994Z"
    },
    "scrolled": true
   },
   "outputs": [
    {
     "name": "stdout",
     "output_type": "stream",
     "text": [
      "Populating the interactive namespace from numpy and matplotlib\n",
      "Pandas version 1.2.1\n",
      "Available cores: 4\n"
     ]
    },
    {
     "name": "stderr",
     "output_type": "stream",
     "text": [
      "/Users/jp/anaconda3/lib/python3.7/site-packages/IPython/core/magics/pylab.py:160: UserWarning: pylab import has clobbered these variables: ['datetime']\n",
      "`%matplotlib` prevents importing * from pylab and numpy\n",
      "  \"\\n`%matplotlib` prevents importing * from pylab and numpy\"\n"
     ]
    }
   ],
   "source": [
    "# python\n",
    "import datetime\n",
    "from typing import List, Tuple, Union\n",
    "import glob\n",
    "from os.path import join, exists\n",
    "from os import makedirs\n",
    "import warnings\n",
    "from datetime import datetime, timedelta\n",
    "\n",
    "# data-science\n",
    "import pandas as pd\n",
    "import scipy\n",
    "import numpy as np\n",
    "import matplotlib.pyplot as plt\n",
    "import seaborn as sns\n",
    "# sns.set_theme(style=\"darkgrid\")\n",
    "import ciso8601\n",
    "import dask.dataframe as dd\n",
    "from dask.distributed import Client, LocalCluster\n",
    "\n",
    "%pylab inline\n",
    "%matplotlib inline\n",
    "plt.rcParams['figure.figsize'] = [18, 5]\n",
    "warnings.filterwarnings('ignore')\n",
    "warnings.simplefilter('ignore')\n",
    "\n",
    "print(\"Pandas version {}\".format(pd.__version__))\n",
    "\n",
    "from dask.system import CPU_COUNT\n",
    "print(\"Available cores: {}\".format(CPU_COUNT), flush=True)"
   ]
  },
  {
   "cell_type": "markdown",
   "metadata": {},
   "source": [
    "## Download the subset"
   ]
  },
  {
   "cell_type": "code",
   "execution_count": 2,
   "metadata": {
    "ExecuteTime": {
     "end_time": "2021-10-08T08:36:28.407883Z",
     "start_time": "2021-10-08T08:36:28.399401Z"
    }
   },
   "outputs": [],
   "source": [
    "# !curl -O https://url-to-repo/ecd-uy/total-household-consumption-subset.tar.gz\n",
    "# !tar xzf electric-water-heater.tar.gz"
   ]
  },
  {
   "cell_type": "markdown",
   "metadata": {},
   "source": [
    "## Declare the path where the files are located"
   ]
  },
  {
   "cell_type": "code",
   "execution_count": 3,
   "metadata": {
    "ExecuteTime": {
     "end_time": "2021-10-08T08:36:28.430715Z",
     "start_time": "2021-10-08T08:36:28.421244Z"
    }
   },
   "outputs": [],
   "source": [
    "BASE_PATH = \"../../../datasets/\"\n",
    "BASE_DATA_SOURCE = BASE_PATH + \"/ECD-UY/total-household-subset\""
   ]
  },
  {
   "cell_type": "markdown",
   "metadata": {},
   "source": [
    "## Setup local dask cluster"
   ]
  },
  {
   "cell_type": "code",
   "execution_count": 4,
   "metadata": {
    "ExecuteTime": {
     "end_time": "2021-10-08T08:36:30.350736Z",
     "start_time": "2021-10-08T08:36:28.438118Z"
    }
   },
   "outputs": [
    {
     "name": "stdout",
     "output_type": "stream",
     "text": [
      "Generating Dask Client...\n"
     ]
    }
   ],
   "source": [
    "print(\"Generating Dask Client...\", flush=True)\n",
    "client = Client(threads_per_worker=2)"
   ]
  },
  {
   "cell_type": "markdown",
   "metadata": {},
   "source": [
    "## Load customers data"
   ]
  },
  {
   "cell_type": "code",
   "execution_count": 5,
   "metadata": {
    "ExecuteTime": {
     "end_time": "2021-10-08T08:36:30.712785Z",
     "start_time": "2021-10-08T08:36:30.353614Z"
    }
   },
   "outputs": [
    {
     "data": {
      "text/html": [
       "<div>\n",
       "<style scoped>\n",
       "    .dataframe tbody tr th:only-of-type {\n",
       "        vertical-align: middle;\n",
       "    }\n",
       "\n",
       "    .dataframe tbody tr th {\n",
       "        vertical-align: top;\n",
       "    }\n",
       "\n",
       "    .dataframe thead th {\n",
       "        text-align: right;\n",
       "    }\n",
       "</style>\n",
       "<table border=\"1\" class=\"dataframe\">\n",
       "  <thead>\n",
       "    <tr style=\"text-align: right;\">\n",
       "      <th></th>\n",
       "      <th>customer_id</th>\n",
       "      <th>tension</th>\n",
       "      <th>tariff</th>\n",
       "      <th>power</th>\n",
       "      <th>department</th>\n",
       "      <th>section</th>\n",
       "      <th>segment</th>\n",
       "      <th>zone</th>\n",
       "    </tr>\n",
       "  </thead>\n",
       "  <tbody>\n",
       "    <tr>\n",
       "      <th>0</th>\n",
       "      <td>2</td>\n",
       "      <td>BT 230 V</td>\n",
       "      <td>TCB</td>\n",
       "      <td>3700</td>\n",
       "      <td>3</td>\n",
       "      <td>5</td>\n",
       "      <td>4</td>\n",
       "      <td>19</td>\n",
       "    </tr>\n",
       "    <tr>\n",
       "      <th>1</th>\n",
       "      <td>3</td>\n",
       "      <td>BT 230 V</td>\n",
       "      <td>TRS</td>\n",
       "      <td>2200</td>\n",
       "      <td>3</td>\n",
       "      <td>4</td>\n",
       "      <td>14</td>\n",
       "      <td>7</td>\n",
       "    </tr>\n",
       "    <tr>\n",
       "      <th>2</th>\n",
       "      <td>5</td>\n",
       "      <td>BT 230 V</td>\n",
       "      <td>TRS</td>\n",
       "      <td>2200</td>\n",
       "      <td>13</td>\n",
       "      <td>3</td>\n",
       "      <td>303</td>\n",
       "      <td>19</td>\n",
       "    </tr>\n",
       "    <tr>\n",
       "      <th>3</th>\n",
       "      <td>6</td>\n",
       "      <td>BT 230 V</td>\n",
       "      <td>TCB</td>\n",
       "      <td>3700</td>\n",
       "      <td>19</td>\n",
       "      <td>1</td>\n",
       "      <td>124</td>\n",
       "      <td>800</td>\n",
       "    </tr>\n",
       "    <tr>\n",
       "      <th>4</th>\n",
       "      <td>9</td>\n",
       "      <td>BT 230 V</td>\n",
       "      <td>TCB</td>\n",
       "      <td>3700</td>\n",
       "      <td>15</td>\n",
       "      <td>8</td>\n",
       "      <td>302</td>\n",
       "      <td>600</td>\n",
       "    </tr>\n",
       "  </tbody>\n",
       "</table>\n",
       "</div>"
      ],
      "text/plain": [
       "   customer_id   tension tariff  power  department  section  segment  zone\n",
       "0            2  BT 230 V    TCB   3700           3        5        4    19\n",
       "1            3  BT 230 V    TRS   2200           3        4       14     7\n",
       "2            5  BT 230 V    TRS   2200          13        3      303    19\n",
       "3            6  BT 230 V    TCB   3700          19        1      124   800\n",
       "4            9  BT 230 V    TCB   3700          15        8      302   600"
      ]
     },
     "execution_count": 5,
     "metadata": {},
     "output_type": "execute_result"
    }
   ],
   "source": [
    "data_customers = pd.read_csv(\n",
    "    BASE_DATA_SOURCE + '/customers.csv',\n",
    ")\n",
    "data_customers.head()"
   ]
  },
  {
   "cell_type": "markdown",
   "metadata": {},
   "source": [
    "## Load total consumption data "
   ]
  },
  {
   "cell_type": "code",
   "execution_count": 6,
   "metadata": {
    "ExecuteTime": {
     "end_time": "2021-10-08T08:36:32.181674Z",
     "start_time": "2021-10-08T08:36:30.790047Z"
    }
   },
   "outputs": [
    {
     "data": {
      "text/html": [
       "<div>\n",
       "<style scoped>\n",
       "    .dataframe tbody tr th:only-of-type {\n",
       "        vertical-align: middle;\n",
       "    }\n",
       "\n",
       "    .dataframe tbody tr th {\n",
       "        vertical-align: top;\n",
       "    }\n",
       "\n",
       "    .dataframe thead th {\n",
       "        text-align: right;\n",
       "    }\n",
       "</style>\n",
       "<table border=\"1\" class=\"dataframe\">\n",
       "  <thead>\n",
       "    <tr style=\"text-align: right;\">\n",
       "      <th></th>\n",
       "      <th>datetime</th>\n",
       "      <th>id</th>\n",
       "      <th>value</th>\n",
       "    </tr>\n",
       "  </thead>\n",
       "  <tbody>\n",
       "    <tr>\n",
       "      <th>0</th>\n",
       "      <td>2019-01-01 00:00:00-03:00</td>\n",
       "      <td>10669</td>\n",
       "      <td>0.056</td>\n",
       "    </tr>\n",
       "    <tr>\n",
       "      <th>1</th>\n",
       "      <td>2019-01-01 00:00:00-03:00</td>\n",
       "      <td>109371</td>\n",
       "      <td>0.000</td>\n",
       "    </tr>\n",
       "    <tr>\n",
       "      <th>2</th>\n",
       "      <td>2019-01-01 00:00:00-03:00</td>\n",
       "      <td>109829</td>\n",
       "      <td>0.386</td>\n",
       "    </tr>\n",
       "    <tr>\n",
       "      <th>3</th>\n",
       "      <td>2019-01-01 00:00:00-03:00</td>\n",
       "      <td>109846</td>\n",
       "      <td>0.027</td>\n",
       "    </tr>\n",
       "    <tr>\n",
       "      <th>4</th>\n",
       "      <td>2019-01-01 00:00:00-03:00</td>\n",
       "      <td>110088</td>\n",
       "      <td>0.000</td>\n",
       "    </tr>\n",
       "  </tbody>\n",
       "</table>\n",
       "</div>"
      ],
      "text/plain": [
       "                   datetime      id  value\n",
       "0 2019-01-01 00:00:00-03:00   10669  0.056\n",
       "1 2019-01-01 00:00:00-03:00  109371  0.000\n",
       "2 2019-01-01 00:00:00-03:00  109829  0.386\n",
       "3 2019-01-01 00:00:00-03:00  109846  0.027\n",
       "4 2019-01-01 00:00:00-03:00  110088  0.000"
      ]
     },
     "execution_count": 6,
     "metadata": {},
     "output_type": "execute_result"
    }
   ],
   "source": [
    "from os.path import join, exists\n",
    "\n",
    "if not exists(BASE_DATA_SOURCE + '/consumption-parquet'):\n",
    "    dd.read_csv(\n",
    "        BASE_DATA_SOURCE + '/consumption_data_*.csv',\n",
    "        delimiter=',',\n",
    "        header=0,\n",
    "        names=[\"datetime\", \"id\", \"value\"],\n",
    "        dtype={'id': np.int32, 'value': np.float32},\n",
    "        parse_dates=[\"datetime\"],\n",
    "        date_parser=lambda epoch: pd.Timestamp(int(epoch), unit='s', tz='America/Montevideo'),\n",
    "    ).to_parquet(\n",
    "        BASE_DATA_SOURCE + '/consumption-parquet',\n",
    "        engine='pyarrow',\n",
    "        compression='snappy',\n",
    "        write_index=False\n",
    "    )\n",
    "    \n",
    "\n",
    "df_consum = dd.read_parquet(\n",
    "    BASE_DATA_SOURCE + '/consumption-parquet',\n",
    ")\n",
    "\n",
    "df_consum.head()"
   ]
  },
  {
   "cell_type": "markdown",
   "metadata": {},
   "source": [
    "### Filter outliers records"
   ]
  },
  {
   "cell_type": "markdown",
   "metadata": {},
   "source": [
    "Filter the ON records (values greater than zero) that are over percentile 99%."
   ]
  },
  {
   "cell_type": "code",
   "execution_count": 7,
   "metadata": {
    "ExecuteTime": {
     "end_time": "2021-10-08T08:36:36.417047Z",
     "start_time": "2021-10-08T08:36:32.184179Z"
    },
    "scrolled": true
   },
   "outputs": [
    {
     "data": {
      "text/plain": [
       "0.800       0.237000\n",
       "0.900       0.390000\n",
       "0.950       0.532000\n",
       "0.975       0.674000\n",
       "0.980       0.716000\n",
       "0.985       0.819000\n",
       "0.990       1.006000\n",
       "0.995     156.899994\n",
       "1.000    2469.600098\n",
       "Name: value, dtype: float64"
      ]
     },
     "metadata": {},
     "output_type": "display_data"
    }
   ],
   "source": [
    "percentile = df_consum[[\"value\"]][df_consum.value > 0].quantile(\n",
    "    [.8, .9, .95, .975, .98, .985, .99, .995, 1]\n",
    ").compute()\n",
    "display(percentile)"
   ]
  },
  {
   "cell_type": "code",
   "execution_count": 8,
   "metadata": {
    "ExecuteTime": {
     "end_time": "2021-10-08T08:36:36.445398Z",
     "start_time": "2021-10-08T08:36:36.429272Z"
    }
   },
   "outputs": [
    {
     "data": {
      "text/plain": [
       "1.00600004196167"
      ]
     },
     "execution_count": 8,
     "metadata": {},
     "output_type": "execute_result"
    }
   ],
   "source": [
    "percentile[0.99]"
   ]
  },
  {
   "cell_type": "code",
   "execution_count": 9,
   "metadata": {
    "ExecuteTime": {
     "end_time": "2021-10-08T08:36:36.466039Z",
     "start_time": "2021-10-08T08:36:36.454657Z"
    }
   },
   "outputs": [],
   "source": [
    "df_consum = df_consum[df_consum.value <= percentile[0.99]]"
   ]
  },
  {
   "cell_type": "markdown",
   "metadata": {},
   "source": [
    "## Mean consumption per hour\n",
    "Average total consumption per hour of the day."
   ]
  },
  {
   "cell_type": "code",
   "execution_count": 10,
   "metadata": {
    "ExecuteTime": {
     "end_time": "2021-10-08T08:36:46.858530Z",
     "start_time": "2021-10-08T08:36:36.472876Z"
    },
    "scrolled": true
   },
   "outputs": [
    {
     "data": {
      "text/plain": [
       "<AxesSubplot:xlabel='datetime'>"
      ]
     },
     "execution_count": 10,
     "metadata": {},
     "output_type": "execute_result"
    },
    {
     "data": {
      "image/png": "[encoded data removed]",
      "text/plain": [
       "<Figure size 1296x360 with 1 Axes>"
      ]
     },
     "metadata": {
      "needs_background": "light"
     },
     "output_type": "display_data"
    }
   ],
   "source": [
    "df_consum.groupby(df_consum.datetime.dt.hour).mean().compute().plot(y='value')"
   ]
  },
  {
   "cell_type": "markdown",
   "metadata": {},
   "source": [
    "## Mean consumption per 15-minutes periods\n",
    "Average total consumption per 15-minutes periods."
   ]
  },
  {
   "cell_type": "code",
   "execution_count": 11,
   "metadata": {
    "ExecuteTime": {
     "end_time": "2021-10-08T08:37:06.961610Z",
     "start_time": "2021-10-08T08:36:46.861164Z"
    }
   },
   "outputs": [
    {
     "data": {
      "text/html": [
       "<div>\n",
       "<style scoped>\n",
       "    .dataframe tbody tr th:only-of-type {\n",
       "        vertical-align: middle;\n",
       "    }\n",
       "\n",
       "    .dataframe tbody tr th {\n",
       "        vertical-align: top;\n",
       "    }\n",
       "\n",
       "    .dataframe thead tr th {\n",
       "        text-align: left;\n",
       "    }\n",
       "\n",
       "    .dataframe thead tr:last-of-type th {\n",
       "        text-align: right;\n",
       "    }\n",
       "</style>\n",
       "<table border=\"1\" class=\"dataframe\">\n",
       "  <thead>\n",
       "    <tr>\n",
       "      <th></th>\n",
       "      <th></th>\n",
       "      <th colspan=\"2\" halign=\"left\">value</th>\n",
       "    </tr>\n",
       "    <tr>\n",
       "      <th></th>\n",
       "      <th></th>\n",
       "      <th>mean</th>\n",
       "      <th>std</th>\n",
       "    </tr>\n",
       "    <tr>\n",
       "      <th>datetime</th>\n",
       "      <th>datetime</th>\n",
       "      <th></th>\n",
       "      <th></th>\n",
       "    </tr>\n",
       "  </thead>\n",
       "  <tbody>\n",
       "    <tr>\n",
       "      <th rowspan=\"4\" valign=\"top\">0</th>\n",
       "      <th>0</th>\n",
       "      <td>0.096923</td>\n",
       "      <td>0.013334</td>\n",
       "    </tr>\n",
       "    <tr>\n",
       "      <th>15</th>\n",
       "      <td>0.093004</td>\n",
       "      <td>0.013034</td>\n",
       "    </tr>\n",
       "    <tr>\n",
       "      <th>30</th>\n",
       "      <td>0.088933</td>\n",
       "      <td>0.012642</td>\n",
       "    </tr>\n",
       "    <tr>\n",
       "      <th>45</th>\n",
       "      <td>0.084956</td>\n",
       "      <td>0.012236</td>\n",
       "    </tr>\n",
       "    <tr>\n",
       "      <th>1</th>\n",
       "      <th>0</th>\n",
       "      <td>0.081231</td>\n",
       "      <td>0.012017</td>\n",
       "    </tr>\n",
       "  </tbody>\n",
       "</table>\n",
       "</div>"
      ],
      "text/plain": [
       "                      value          \n",
       "                       mean       std\n",
       "datetime datetime                    \n",
       "0        0         0.096923  0.013334\n",
       "         15        0.093004  0.013034\n",
       "         30        0.088933  0.012642\n",
       "         45        0.084956  0.012236\n",
       "1        0         0.081231  0.012017"
      ]
     },
     "execution_count": 11,
     "metadata": {},
     "output_type": "execute_result"
    }
   ],
   "source": [
    "df_consum_15min = df_consum[[\"datetime\", \"value\"]].set_index(\"datetime\").resample(\"15min\").mean()\n",
    "\n",
    "df_consum_15min_mean = df_consum_15min[[\"value\"]].groupby(\n",
    "    [df_consum_15min.index.hour, df_consum_15min.index.minute]\n",
    ").aggregate({\"value\": [\"mean\", \"std\"]}) \n",
    "\n",
    "df_consum_15min_mean = df_consum_15min_mean.compute()\n",
    "\n",
    "df_consum_15min_mean.head()"
   ]
  },
  {
   "cell_type": "code",
   "execution_count": 12,
   "metadata": {
    "ExecuteTime": {
     "end_time": "2021-10-08T08:37:07.259042Z",
     "start_time": "2021-10-08T08:37:06.965401Z"
    }
   },
   "outputs": [
    {
     "data": {
      "image/png": "[encoded data removed]",
      "text/plain": [
       "<Figure size 1296x360 with 1 Axes>"
      ]
     },
     "metadata": {
      "needs_background": "light"
     },
     "output_type": "display_data"
    }
   ],
   "source": [
    "x_ticks = [\"{:02d}:{:02d}\".format(x,y) for x,y in df_consum_15min_mean.index]\n",
    "plt.plot(\n",
    "    x_ticks,\n",
    "    df_consum_15min_mean[(\"value\", \"mean\")]\n",
    ")\n",
    "\n",
    "plt.xticks([x_ticks[x] for x in range(0,len(x_ticks), 10)], rotation=0)\n",
    "plt.show()"
   ]
  },
  {
   "cell_type": "markdown",
   "metadata": {},
   "source": [
    "## Count records per day and customer"
   ]
  },
  {
   "cell_type": "code",
   "execution_count": 13,
   "metadata": {
    "ExecuteTime": {
     "end_time": "2021-10-08T08:37:25.192572Z",
     "start_time": "2021-10-08T08:37:07.262426Z"
    }
   },
   "outputs": [],
   "source": [
    "df_consum_date_count = df_consum.groupby(\n",
    "    [df_consum.id, df_consum.datetime.dt.date]\n",
    ")[[\"value\"]].count().compute()"
   ]
  },
  {
   "cell_type": "code",
   "execution_count": 14,
   "metadata": {
    "ExecuteTime": {
     "end_time": "2021-10-08T08:37:25.214178Z",
     "start_time": "2021-10-08T08:37:25.195282Z"
    }
   },
   "outputs": [
    {
     "data": {
      "text/html": [
       "<div>\n",
       "<style scoped>\n",
       "    .dataframe tbody tr th:only-of-type {\n",
       "        vertical-align: middle;\n",
       "    }\n",
       "\n",
       "    .dataframe tbody tr th {\n",
       "        vertical-align: top;\n",
       "    }\n",
       "\n",
       "    .dataframe thead th {\n",
       "        text-align: right;\n",
       "    }\n",
       "</style>\n",
       "<table border=\"1\" class=\"dataframe\">\n",
       "  <thead>\n",
       "    <tr style=\"text-align: right;\">\n",
       "      <th></th>\n",
       "      <th></th>\n",
       "      <th>value</th>\n",
       "    </tr>\n",
       "    <tr>\n",
       "      <th>id</th>\n",
       "      <th>datetime</th>\n",
       "      <th></th>\n",
       "    </tr>\n",
       "  </thead>\n",
       "  <tbody>\n",
       "    <tr>\n",
       "      <th rowspan=\"5\" valign=\"top\">1168</th>\n",
       "      <th>2019-01-01</th>\n",
       "      <td>96</td>\n",
       "    </tr>\n",
       "    <tr>\n",
       "      <th>2019-01-02</th>\n",
       "      <td>96</td>\n",
       "    </tr>\n",
       "    <tr>\n",
       "      <th>2019-01-03</th>\n",
       "      <td>96</td>\n",
       "    </tr>\n",
       "    <tr>\n",
       "      <th>2019-01-04</th>\n",
       "      <td>96</td>\n",
       "    </tr>\n",
       "    <tr>\n",
       "      <th>2019-01-05</th>\n",
       "      <td>96</td>\n",
       "    </tr>\n",
       "  </tbody>\n",
       "</table>\n",
       "</div>"
      ],
      "text/plain": [
       "                 value\n",
       "id   datetime         \n",
       "1168 2019-01-01     96\n",
       "     2019-01-02     96\n",
       "     2019-01-03     96\n",
       "     2019-01-04     96\n",
       "     2019-01-05     96"
      ]
     },
     "execution_count": 14,
     "metadata": {},
     "output_type": "execute_result"
    }
   ],
   "source": [
    "df_consum_date_count.head()"
   ]
  },
  {
   "cell_type": "code",
   "execution_count": 15,
   "metadata": {
    "ExecuteTime": {
     "end_time": "2021-10-08T08:37:26.088266Z",
     "start_time": "2021-10-08T08:37:25.225209Z"
    }
   },
   "outputs": [
    {
     "name": "stdout",
     "output_type": "stream",
     "text": [
      "[0.0, 9.6, 19.2, 28.799999999999997, 38.4, 48.0, 57.599999999999994, 67.2, 76.8, 86.39999999999999, 96.0]\n"
     ]
    },
    {
     "data": {
      "image/png": "[encoded data removed]",
      "text/plain": [
       "<Figure size 1296x360 with 1 Axes>"
      ]
     },
     "metadata": {
      "needs_background": "light"
     },
     "output_type": "display_data"
    }
   ],
   "source": [
    "# fig, (ax1, ax2) = plt.subplots(2, 1, sharex=True)\n",
    "# fig.subplots_adjust(hspace=0.05)\n",
    "print([(96/10)*x for x in range(11)])\n",
    "plt.hist(df_consum_date_count.value, bins=[(96/10)*x for x in range(11)])\n",
    "plt.yscale('log', nonposy='clip')\n",
    "plt.xticks([(96/10)*x for x in range(11)])\n",
    "plt.show()"
   ]
  },
  {
   "cell_type": "code",
   "execution_count": 16,
   "metadata": {
    "ExecuteTime": {
     "end_time": "2021-10-08T08:37:26.115847Z",
     "start_time": "2021-10-08T08:37:26.092800Z"
    }
   },
   "outputs": [
    {
     "data": {
      "text/plain": [
       "96    510871\n",
       "95      6965\n",
       "94      2937\n",
       "72      1737\n",
       "81      1723\n",
       "       ...  \n",
       "20        20\n",
       "16        20\n",
       "12        20\n",
       "14        16\n",
       "11        15\n",
       "Name: value, Length: 96, dtype: int64"
      ]
     },
     "execution_count": 16,
     "metadata": {},
     "output_type": "execute_result"
    }
   ],
   "source": [
    "df_consum_date_count.value.value_counts()"
   ]
  },
  {
   "cell_type": "code",
   "execution_count": 17,
   "metadata": {
    "ExecuteTime": {
     "end_time": "2021-10-08T08:37:26.174015Z",
     "start_time": "2021-10-08T08:37:26.124664Z"
    }
   },
   "outputs": [
    {
     "data": {
      "text/plain": [
       "value\n",
       "(0.0, 4.8]         294\n",
       "(4.8, 9.6]         266\n",
       "(9.6, 14.4]        100\n",
       "(14.4, 19.2]       137\n",
       "(19.2, 24.0]       121\n",
       "(24.0, 28.8]       135\n",
       "(28.8, 33.6]       247\n",
       "(33.6, 38.4]       275\n",
       "(38.4, 43.2]       818\n",
       "(43.2, 48.0]       874\n",
       "(48.0, 52.8]       512\n",
       "(52.8, 57.6]       893\n",
       "(57.6, 62.4]       377\n",
       "(62.4, 67.2]       862\n",
       "(67.2, 72.0]      2184\n",
       "(72.0, 76.8]       817\n",
       "(76.8, 81.6]      2889\n",
       "(81.6, 86.4]      1189\n",
       "(86.4, 91.2]      3905\n",
       "(91.2, 96.0]    523391\n",
       "Name: value, dtype: int64"
      ]
     },
     "execution_count": 17,
     "metadata": {},
     "output_type": "execute_result"
    }
   ],
   "source": [
    "b = pd.cut(df_consum_date_count.value, bins=[(96/20)*x for x in range(21)])\n",
    "df_consum_date_count.value.groupby(b).count()"
   ]
  },
  {
   "cell_type": "markdown",
   "metadata": {},
   "source": [
    "## Mean consumption per 15-minutes periods, using days with >= 95% of records"
   ]
  },
  {
   "cell_type": "code",
   "execution_count": 18,
   "metadata": {
    "ExecuteTime": {
     "end_time": "2021-10-08T08:37:44.602014Z",
     "start_time": "2021-10-08T08:37:26.177460Z"
    }
   },
   "outputs": [
    {
     "data": {
      "text/html": [
       "<div>\n",
       "<style scoped>\n",
       "    .dataframe tbody tr th:only-of-type {\n",
       "        vertical-align: middle;\n",
       "    }\n",
       "\n",
       "    .dataframe tbody tr th {\n",
       "        vertical-align: top;\n",
       "    }\n",
       "\n",
       "    .dataframe thead th {\n",
       "        text-align: right;\n",
       "    }\n",
       "</style>\n",
       "<table border=\"1\" class=\"dataframe\">\n",
       "  <thead>\n",
       "    <tr style=\"text-align: right;\">\n",
       "      <th></th>\n",
       "      <th>id</th>\n",
       "      <th>datetime</th>\n",
       "      <th>value</th>\n",
       "    </tr>\n",
       "  </thead>\n",
       "  <tbody>\n",
       "    <tr>\n",
       "      <th>0</th>\n",
       "      <td>1168</td>\n",
       "      <td>2019-01-01</td>\n",
       "      <td>96</td>\n",
       "    </tr>\n",
       "    <tr>\n",
       "      <th>1</th>\n",
       "      <td>1168</td>\n",
       "      <td>2019-01-02</td>\n",
       "      <td>96</td>\n",
       "    </tr>\n",
       "    <tr>\n",
       "      <th>2</th>\n",
       "      <td>1168</td>\n",
       "      <td>2019-01-03</td>\n",
       "      <td>96</td>\n",
       "    </tr>\n",
       "    <tr>\n",
       "      <th>3</th>\n",
       "      <td>1168</td>\n",
       "      <td>2019-01-04</td>\n",
       "      <td>96</td>\n",
       "    </tr>\n",
       "    <tr>\n",
       "      <th>4</th>\n",
       "      <td>1168</td>\n",
       "      <td>2019-01-05</td>\n",
       "      <td>96</td>\n",
       "    </tr>\n",
       "  </tbody>\n",
       "</table>\n",
       "</div>"
      ],
      "text/plain": [
       "     id   datetime  value\n",
       "0  1168 2019-01-01     96\n",
       "1  1168 2019-01-02     96\n",
       "2  1168 2019-01-03     96\n",
       "3  1168 2019-01-04     96\n",
       "4  1168 2019-01-05     96"
      ]
     },
     "execution_count": 18,
     "metadata": {},
     "output_type": "execute_result"
    }
   ],
   "source": [
    "df_consum_filter95 = df_consum\n",
    "df_consum_date_count = df_consum.groupby(\n",
    "    [df_consum.id, df_consum.datetime.dt.date]\n",
    ").value.count().reset_index()\n",
    "df_consum_date_count = df_consum_date_count[df_consum_date_count.value > 91]\n",
    "df_consum_date_count[\"datetime\"] = dd.to_datetime(df_consum_date_count.datetime)\n",
    "\n",
    "df_consum_date_count.head()\n",
    "# df_consum_date_count.reset_index()[[\"\"]].head()"
   ]
  },
  {
   "cell_type": "code",
   "execution_count": 19,
   "metadata": {
    "ExecuteTime": {
     "end_time": "2021-10-08T08:38:53.251667Z",
     "start_time": "2021-10-08T08:37:44.607060Z"
    }
   },
   "outputs": [
    {
     "data": {
      "text/html": [
       "<div>\n",
       "<style scoped>\n",
       "    .dataframe tbody tr th:only-of-type {\n",
       "        vertical-align: middle;\n",
       "    }\n",
       "\n",
       "    .dataframe tbody tr th {\n",
       "        vertical-align: top;\n",
       "    }\n",
       "\n",
       "    .dataframe thead th {\n",
       "        text-align: right;\n",
       "    }\n",
       "</style>\n",
       "<table border=\"1\" class=\"dataframe\">\n",
       "  <thead>\n",
       "    <tr style=\"text-align: right;\">\n",
       "      <th></th>\n",
       "      <th>datetime</th>\n",
       "      <th>id</th>\n",
       "      <th>value</th>\n",
       "      <th>records_of_day</th>\n",
       "    </tr>\n",
       "  </thead>\n",
       "  <tbody>\n",
       "    <tr>\n",
       "      <th>0</th>\n",
       "      <td>2019-01-01 00:00:00-03:00</td>\n",
       "      <td>10669</td>\n",
       "      <td>0.056</td>\n",
       "      <td>96.0</td>\n",
       "    </tr>\n",
       "    <tr>\n",
       "      <th>1</th>\n",
       "      <td>2019-01-01 00:00:00-03:00</td>\n",
       "      <td>109371</td>\n",
       "      <td>0.000</td>\n",
       "      <td>96.0</td>\n",
       "    </tr>\n",
       "    <tr>\n",
       "      <th>2</th>\n",
       "      <td>2019-01-01 00:00:00-03:00</td>\n",
       "      <td>109829</td>\n",
       "      <td>0.386</td>\n",
       "      <td>96.0</td>\n",
       "    </tr>\n",
       "    <tr>\n",
       "      <th>3</th>\n",
       "      <td>2019-01-01 00:00:00-03:00</td>\n",
       "      <td>109846</td>\n",
       "      <td>0.027</td>\n",
       "      <td>96.0</td>\n",
       "    </tr>\n",
       "    <tr>\n",
       "      <th>4</th>\n",
       "      <td>2019-01-01 00:00:00-03:00</td>\n",
       "      <td>110088</td>\n",
       "      <td>0.000</td>\n",
       "      <td>96.0</td>\n",
       "    </tr>\n",
       "    <tr>\n",
       "      <th>...</th>\n",
       "      <td>...</td>\n",
       "      <td>...</td>\n",
       "      <td>...</td>\n",
       "      <td>...</td>\n",
       "    </tr>\n",
       "    <tr>\n",
       "      <th>318497</th>\n",
       "      <td>2020-11-06 23:45:00-03:00</td>\n",
       "      <td>90478</td>\n",
       "      <td>0.010</td>\n",
       "      <td>96.0</td>\n",
       "    </tr>\n",
       "    <tr>\n",
       "      <th>318498</th>\n",
       "      <td>2020-11-06 23:45:00-03:00</td>\n",
       "      <td>90549</td>\n",
       "      <td>0.059</td>\n",
       "      <td>96.0</td>\n",
       "    </tr>\n",
       "    <tr>\n",
       "      <th>318499</th>\n",
       "      <td>2020-11-06 23:45:00-03:00</td>\n",
       "      <td>96637</td>\n",
       "      <td>0.082</td>\n",
       "      <td>96.0</td>\n",
       "    </tr>\n",
       "    <tr>\n",
       "      <th>318500</th>\n",
       "      <td>2020-11-06 23:45:00-03:00</td>\n",
       "      <td>96690</td>\n",
       "      <td>0.089</td>\n",
       "      <td>96.0</td>\n",
       "    </tr>\n",
       "    <tr>\n",
       "      <th>318501</th>\n",
       "      <td>2020-11-06 23:45:00-03:00</td>\n",
       "      <td>97875</td>\n",
       "      <td>0.049</td>\n",
       "      <td>96.0</td>\n",
       "    </tr>\n",
       "  </tbody>\n",
       "</table>\n",
       "<p>50223849 rows × 4 columns</p>\n",
       "</div>"
      ],
      "text/plain": [
       "                        datetime      id  value  records_of_day\n",
       "0      2019-01-01 00:00:00-03:00   10669  0.056            96.0\n",
       "1      2019-01-01 00:00:00-03:00  109371  0.000            96.0\n",
       "2      2019-01-01 00:00:00-03:00  109829  0.386            96.0\n",
       "3      2019-01-01 00:00:00-03:00  109846  0.027            96.0\n",
       "4      2019-01-01 00:00:00-03:00  110088  0.000            96.0\n",
       "...                          ...     ...    ...             ...\n",
       "318497 2020-11-06 23:45:00-03:00   90478  0.010            96.0\n",
       "318498 2020-11-06 23:45:00-03:00   90549  0.059            96.0\n",
       "318499 2020-11-06 23:45:00-03:00   96637  0.082            96.0\n",
       "318500 2020-11-06 23:45:00-03:00   96690  0.089            96.0\n",
       "318501 2020-11-06 23:45:00-03:00   97875  0.049            96.0\n",
       "\n",
       "[50223849 rows x 4 columns]"
      ]
     },
     "execution_count": 19,
     "metadata": {},
     "output_type": "execute_result"
    }
   ],
   "source": [
    "df_consum_2 = df_consum\n",
    "df_consum_2[\"datetime2\"] = dd.to_datetime(df_consum_2.datetime.dt.date)\n",
    "\n",
    "df_consum_filter95 = dd.merge(\n",
    "    df_consum_2,\n",
    "    df_consum_date_count,\n",
    "    left_on=[\"id\", \"datetime2\"],\n",
    "    right_on=[\"id\", \"datetime\"],\n",
    "    how='left',\n",
    "    indicator='exists'\n",
    ")\n",
    "df_consum_filter95 = df_consum_filter95[df_consum_filter95.exists==\"both\"]\n",
    "df_consum_filter95 = df_consum_filter95.drop([\"datetime2\", \"datetime_y\", \"exists\"], axis=\"columns\")\n",
    "df_consum_filter95 = df_consum_filter95.rename(columns={\n",
    "    \"datetime_x\": \"datetime\",\n",
    "    \"value_x\": \"value\",\n",
    "    \"value_y\": \"records_of_day\",\n",
    "})\n",
    "\n",
    "df_consum_filter95.compute()"
   ]
  },
  {
   "cell_type": "markdown",
   "metadata": {},
   "source": [
    "## Plot of the 15-minutes mean consumptio of the day for 4 different customers"
   ]
  },
  {
   "cell_type": "code",
   "execution_count": 32,
   "metadata": {
    "ExecuteTime": {
     "end_time": "2021-10-08T09:00:48.191414Z",
     "start_time": "2021-10-08T09:00:48.172211Z"
    }
   },
   "outputs": [],
   "source": [
    "def filter_cust_n_group(cust_id):\n",
    "    df_cust = df_consum[(df_consum.id==cust_id)]\n",
    "    return df_cust.groupby(\n",
    "        [df_cust.datetime.dt.hour, df_cust.datetime.dt.minute]\n",
    "    ).mean()\n",
    "\n",
    "def min_max_dt(cust_id: int) -> (datetime, datetime):\n",
    "    df_cust = df_consum[(df_consum.id==cust_id)]\n",
    "    min_dt = df_cust.datetime.min()\n",
    "    max_dt = df_cust.datetime.max()\n",
    "    \n",
    "    return dd.compute(min_dt, max_dt)\n",
    "    \n",
    "def plot_consum(df, hide_xticks=False):\n",
    "    x_ticks = [\"{:02d}:{:02d}\".format(x,y) for x,y in df.index]\n",
    "    plt.plot(x_ticks, df.value)\n",
    "    plt.grid(True, axis='y')\n",
    "    plt.xticks(fontsize=18)\n",
    "    plt.yticks(fontsize=18)\n",
    "    plt.ylabel(\"Mean energy consumption (kWh)\", fontsize=18)\n",
    "    \n",
    "    if hide_xticks:\n",
    "        plt.xticks([], rotation=0)\n",
    "    else:\n",
    "        plt.xlabel(\"Hour of the day\", fontsize=18)\n",
    "        plt.xticks([x_ticks[x] for x in range(0,len(x_ticks), 10)], rotation=0)\n",
    "    plt.show()"
   ]
  },
  {
   "cell_type": "markdown",
   "metadata": {},
   "source": [
    "### Customer 109846"
   ]
  },
  {
   "cell_type": "code",
   "execution_count": 21,
   "metadata": {
    "ExecuteTime": {
     "end_time": "2021-10-08T08:39:15.265123Z",
     "start_time": "2021-10-08T08:38:53.284606Z"
    }
   },
   "outputs": [],
   "source": [
    "df_consum_c1 = filter_cust_n_group(109846).compute()"
   ]
  },
  {
   "cell_type": "code",
   "execution_count": 33,
   "metadata": {
    "ExecuteTime": {
     "end_time": "2021-10-08T09:01:08.895031Z",
     "start_time": "2021-10-08T09:00:50.152045Z"
    }
   },
   "outputs": [
    {
     "name": "stdout",
     "output_type": "stream",
     "text": [
      "(Timestamp('2019-01-01 00:00:00-0300', tz='America/Montevideo'), Timestamp('2020-11-03 20:00:00-0300', tz='America/Montevideo'))\n"
     ]
    }
   ],
   "source": [
    "print(min_max_dt(109846))"
   ]
  },
  {
   "cell_type": "code",
   "execution_count": 22,
   "metadata": {
    "ExecuteTime": {
     "end_time": "2021-10-08T08:39:15.858457Z",
     "start_time": "2021-10-08T08:39:15.274575Z"
    },
    "scrolled": true
   },
   "outputs": [
    {
     "data": {
      "image/png": "[encoded data removed]",
      "text/plain": [
       "<Figure size 1296x360 with 1 Axes>"
      ]
     },
     "metadata": {
      "needs_background": "light"
     },
     "output_type": "display_data"
    }
   ],
   "source": [
    "plot_consum(df_consum_c1, hide_xticks=True)"
   ]
  },
  {
   "cell_type": "markdown",
   "metadata": {},
   "source": [
    "### Customer 110088"
   ]
  },
  {
   "cell_type": "code",
   "execution_count": 23,
   "metadata": {
    "ExecuteTime": {
     "end_time": "2021-10-08T08:39:36.456364Z",
     "start_time": "2021-10-08T08:39:15.889243Z"
    }
   },
   "outputs": [],
   "source": [
    "df_consum_c2 = filter_cust_n_group(110088).compute()"
   ]
  },
  {
   "cell_type": "code",
   "execution_count": 36,
   "metadata": {
    "ExecuteTime": {
     "end_time": "2021-10-08T09:06:40.320296Z",
     "start_time": "2021-10-08T09:06:22.698090Z"
    }
   },
   "outputs": [
    {
     "name": "stdout",
     "output_type": "stream",
     "text": [
      "(Timestamp('2019-01-01 00:00:00-0300', tz='America/Montevideo'), Timestamp('2020-11-02 20:00:00-0300', tz='America/Montevideo'))\n"
     ]
    }
   ],
   "source": [
    "print(min_max_dt(110088))"
   ]
  },
  {
   "cell_type": "code",
   "execution_count": 24,
   "metadata": {
    "ExecuteTime": {
     "end_time": "2021-10-08T08:39:36.764780Z",
     "start_time": "2021-10-08T08:39:36.464235Z"
    },
    "scrolled": true
   },
   "outputs": [
    {
     "data": {
      "image/png": "[encoded data removed]",
      "text/plain": [
       "<Figure size 1296x360 with 1 Axes>"
      ]
     },
     "metadata": {
      "needs_background": "light"
     },
     "output_type": "display_data"
    }
   ],
   "source": [
    "plot_consum(df_consum_c2, hide_xticks=True)"
   ]
  },
  {
   "cell_type": "markdown",
   "metadata": {},
   "source": [
    "### Customer 97875"
   ]
  },
  {
   "cell_type": "code",
   "execution_count": 25,
   "metadata": {
    "ExecuteTime": {
     "end_time": "2021-10-08T08:39:57.364295Z",
     "start_time": "2021-10-08T08:39:36.767282Z"
    }
   },
   "outputs": [],
   "source": [
    "df_consum_c3 = filter_cust_n_group(97875).compute()"
   ]
  },
  {
   "cell_type": "code",
   "execution_count": 35,
   "metadata": {
    "ExecuteTime": {
     "end_time": "2021-10-08T09:06:40.320296Z",
     "start_time": "2021-10-08T09:06:22.698090Z"
    }
   },
   "outputs": [
    {
     "name": "stdout",
     "output_type": "stream",
     "text": [
      "(Timestamp('2019-03-21 16:30:00-0300', tz='America/Montevideo'), Timestamp('2020-11-07 02:00:00-0300', tz='America/Montevideo'))\n"
     ]
    }
   ],
   "source": [
    "print(min_max_dt(97875))"
   ]
  },
  {
   "cell_type": "code",
   "execution_count": 26,
   "metadata": {
    "ExecuteTime": {
     "end_time": "2021-10-08T08:39:57.752302Z",
     "start_time": "2021-10-08T08:39:57.366994Z"
    },
    "scrolled": true
   },
   "outputs": [
    {
     "data": {
      "image/png": "[encoded data removed]",
      "text/plain": [
       "<Figure size 1296x360 with 1 Axes>"
      ]
     },
     "metadata": {
      "needs_background": "light"
     },
     "output_type": "display_data"
    }
   ],
   "source": [
    "plot_consum(df_consum_c3, hide_xticks=True)"
   ]
  },
  {
   "cell_type": "markdown",
   "metadata": {},
   "source": [
    "### Customer 8037"
   ]
  },
  {
   "cell_type": "code",
   "execution_count": 27,
   "metadata": {
    "ExecuteTime": {
     "end_time": "2021-10-08T08:40:18.360009Z",
     "start_time": "2021-10-08T08:39:57.763966Z"
    }
   },
   "outputs": [],
   "source": [
    "df_consum_c4 = filter_cust_n_group(8037).compute()"
   ]
  },
  {
   "cell_type": "code",
   "execution_count": 34,
   "metadata": {
    "ExecuteTime": {
     "end_time": "2021-10-08T09:06:40.320296Z",
     "start_time": "2021-10-08T09:06:22.698090Z"
    }
   },
   "outputs": [
    {
     "name": "stdout",
     "output_type": "stream",
     "text": [
      "(Timestamp('2019-01-01 00:00:00-0300', tz='America/Montevideo'), Timestamp('2020-11-03 12:00:00-0300', tz='America/Montevideo'))\n"
     ]
    }
   ],
   "source": [
    "print(min_max_dt(8037))"
   ]
  },
  {
   "cell_type": "code",
   "execution_count": 28,
   "metadata": {
    "ExecuteTime": {
     "end_time": "2021-10-08T08:40:18.733090Z",
     "start_time": "2021-10-08T08:40:18.362229Z"
    },
    "scrolled": true
   },
   "outputs": [
    {
     "data": {
      "image/png": "[encoded data removed]",
      "text/plain": [
       "<Figure size 1296x360 with 1 Axes>"
      ]
     },
     "metadata": {
      "needs_background": "light"
     },
     "output_type": "display_data"
    }
   ],
   "source": [
    "plot_consum(df_consum_c4, hide_xticks=False)"
   ]
  },
  {
   "cell_type": "code",
   "execution_count": 29,
   "metadata": {
    "ExecuteTime": {
     "end_time": "2021-10-08T08:40:36.806787Z",
     "start_time": "2021-10-08T08:40:18.737575Z"
    }
   },
   "outputs": [
    {
     "data": {
      "text/plain": [
       "1.00600004196167"
      ]
     },
     "execution_count": 29,
     "metadata": {},
     "output_type": "execute_result"
    }
   ],
   "source": [
    "df_consum.value.max().compute()"
   ]
  }
 ],
 "metadata": {
  "hide_input": false,
  "kernelspec": {
   "display_name": "Python 3",
   "language": "python",
   "name": "python3"
  },
  "language_info": {
   "codemirror_mode": {
    "name": "ipython",
    "version": 3
   },
   "file_extension": ".py",
   "mimetype": "text/x-python",
   "name": "python",
   "nbconvert_exporter": "python",
   "pygments_lexer": "ipython3",
   "version": "3.7.7"
  },
  "toc": {
   "base_numbering": 1,
   "nav_menu": {},
   "number_sections": true,
   "sideBar": true,
   "skip_h1_title": false,
   "title_cell": "Table of Contents",
   "title_sidebar": "Contents",
   "toc_cell": false,
   "toc_position": {},
   "toc_section_display": true,
   "toc_window_display": false
  },
  "varInspector": {
   "cols": {
    "lenName": 16,
    "lenType": 16,
    "lenVar": 40
   },
   "kernels_config": {
    "python": {
     "delete_cmd_postfix": "",
     "delete_cmd_prefix": "del ",
     "library": "var_list.py",
     "varRefreshCmd": "print(var_dic_list())"
    },
    "r": {
     "delete_cmd_postfix": ") ",
     "delete_cmd_prefix": "rm(",
     "library": "var_list.r",
     "varRefreshCmd": "cat(var_dic_list()) "
    }
   },
   "types_to_exclude": [
    "module",
    "function",
    "builtin_function_or_method",
    "instance",
    "_Feature"
   ],
   "window_display": false
  }
 },
 "nbformat": 4,
 "nbformat_minor": 4
}
