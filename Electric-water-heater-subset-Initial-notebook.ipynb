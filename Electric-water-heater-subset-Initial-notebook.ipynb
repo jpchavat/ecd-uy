{
 "cells": [
  {
   "cell_type": "markdown",
   "metadata": {},
   "source": [
    "# ECD-UY: Electric water heater subset\n",
    "\n",
    "This notebook presents the minimum code steps to load the subset and start to work with its records."
   ]
  },
  {
   "cell_type": "markdown",
   "metadata": {},
   "source": [
    "## Load the needed libraries"
   ]
  },
  {
   "cell_type": "code",
   "execution_count": 2,
   "metadata": {
    "ExecuteTime": {
     "end_time": "2020-08-04T20:03:43.761333Z",
     "start_time": "2020-08-04T20:03:42.927692Z"
    }
   },
   "outputs": [
    {
     "name": "stdout",
     "output_type": "stream",
     "text": [
      "Populating the interactive namespace from numpy and matplotlib\n",
      "Pandas version 1.0.5\n"
     ]
    },
    {
     "name": "stderr",
     "output_type": "stream",
     "text": [
      "/Users/jp/anaconda3/lib/python3.7/site-packages/IPython/core/magics/pylab.py:160: UserWarning: pylab import has clobbered these variables: ['datetime']\n",
      "`%matplotlib` prevents importing * from pylab and numpy\n",
      "  \"\\n`%matplotlib` prevents importing * from pylab and numpy\"\n"
     ]
    }
   ],
   "source": [
    "# python\n",
    "import datetime\n",
    "from typing import List, Tuple, Union\n",
    "import glob\n",
    "from os.path import join, exists\n",
    "from os import makedirs\n",
    "import warnings\n",
    "from datetime import datetime, timedelta\n",
    "\n",
    "# data-science\n",
    "import pandas as pd\n",
    "import scipy\n",
    "import numpy as np\n",
    "import matplotlib.pyplot as plt\n",
    "import ciso8601\n",
    "\n",
    "%pylab inline\n",
    "%matplotlib inline\n",
    "plt.rcParams['figure.figsize'] = [18, 5]\n",
    "warnings.filterwarnings('ignore')\n",
    "warnings.simplefilter('ignore')\n",
    "\n",
    "print(\"Pandas version {}\".format(pd.__version__))"
   ]
  },
  {
   "cell_type": "markdown",
   "metadata": {},
   "source": [
    "## Download the subset"
   ]
  },
  {
   "cell_type": "code",
   "execution_count": 3,
   "metadata": {
    "ExecuteTime": {
     "end_time": "2020-08-04T20:03:44.076341Z",
     "start_time": "2020-08-04T20:03:43.764651Z"
    }
   },
   "outputs": [
    {
     "name": "stdout",
     "output_type": "stream",
     "text": [
      "  % Total    % Received % Xferd  Average Speed   Time    Time     Time  Current\n",
      "                                 Dload  Upload   Total   Spent    Left  Speed\n",
      "  0     0    0     0    0     0      0      0 --:--:-- --:--:-- --:--:--     0curl: (6) Could not resolve host: url-to-repo\n",
      "tar: Error opening archive: Failed to open 'electric-water-heater.tar.gz'\n"
     ]
    }
   ],
   "source": [
    "!curl -O https://url-to-repo/ecd-uy/electric-water-heater-subset.tar.gz\n",
    "!tar xzf electric-water-heater.tar.gz"
   ]
  },
  {
   "cell_type": "markdown",
   "metadata": {},
   "source": [
    "## Declare the path where the files are located"
   ]
  },
  {
   "cell_type": "code",
   "execution_count": 4,
   "metadata": {
    "ExecuteTime": {
     "end_time": "2020-08-04T20:03:44.085478Z",
     "start_time": "2020-08-04T20:03:44.080411Z"
    }
   },
   "outputs": [],
   "source": [
    "BASE_DATA_SOURCE = \"../../DATOS-CARACTERIZACION-UTE-STANDARDIZED\"\n",
    "# BASE_DATA_SOURCE = \"./electric-water-heater-subset\""
   ]
  },
  {
   "cell_type": "markdown",
   "metadata": {},
   "source": [
    "## Load customers data"
   ]
  },
  {
   "cell_type": "code",
   "execution_count": 5,
   "metadata": {
    "ExecuteTime": {
     "end_time": "2020-08-04T20:03:44.176858Z",
     "start_time": "2020-08-04T20:03:44.092273Z"
    },
    "scrolled": true
   },
   "outputs": [
    {
     "data": {
      "text/html": [
       "<div>\n",
       "<style scoped>\n",
       "    .dataframe tbody tr th:only-of-type {\n",
       "        vertical-align: middle;\n",
       "    }\n",
       "\n",
       "    .dataframe tbody tr th {\n",
       "        vertical-align: top;\n",
       "    }\n",
       "\n",
       "    .dataframe thead th {\n",
       "        text-align: right;\n",
       "    }\n",
       "</style>\n",
       "<table border=\"1\" class=\"dataframe\">\n",
       "  <thead>\n",
       "    <tr style=\"text-align: right;\">\n",
       "      <th></th>\n",
       "      <th>customer_id</th>\n",
       "      <th>tension</th>\n",
       "      <th>tariff</th>\n",
       "      <th>power</th>\n",
       "      <th>department</th>\n",
       "      <th>section</th>\n",
       "      <th>segment</th>\n",
       "      <th>zone</th>\n",
       "    </tr>\n",
       "  </thead>\n",
       "  <tbody>\n",
       "    <tr>\n",
       "      <th>0</th>\n",
       "      <td>26429</td>\n",
       "      <td>BT 230 V</td>\n",
       "      <td>TRS</td>\n",
       "      <td>9500</td>\n",
       "      <td>16.0</td>\n",
       "      <td>1.0</td>\n",
       "      <td>18.0</td>\n",
       "      <td>2.0</td>\n",
       "    </tr>\n",
       "    <tr>\n",
       "      <th>1</th>\n",
       "      <td>2293</td>\n",
       "      <td>BT 230 V</td>\n",
       "      <td>TGS</td>\n",
       "      <td>4400</td>\n",
       "      <td>16.0</td>\n",
       "      <td>1.0</td>\n",
       "      <td>13.0</td>\n",
       "      <td>15.0</td>\n",
       "    </tr>\n",
       "    <tr>\n",
       "      <th>2</th>\n",
       "      <td>58415</td>\n",
       "      <td>BT 230 V</td>\n",
       "      <td>TRS</td>\n",
       "      <td>3700</td>\n",
       "      <td>14.0</td>\n",
       "      <td>1.0</td>\n",
       "      <td>113.0</td>\n",
       "      <td>26.0</td>\n",
       "    </tr>\n",
       "    <tr>\n",
       "      <th>3</th>\n",
       "      <td>5893</td>\n",
       "      <td>BT 230 V</td>\n",
       "      <td>TRS</td>\n",
       "      <td>6200</td>\n",
       "      <td>16.0</td>\n",
       "      <td>1.0</td>\n",
       "      <td>13.0</td>\n",
       "      <td>6.0</td>\n",
       "    </tr>\n",
       "    <tr>\n",
       "      <th>4</th>\n",
       "      <td>29815</td>\n",
       "      <td>BT 230 V</td>\n",
       "      <td>UTE</td>\n",
       "      <td>9200</td>\n",
       "      <td>3.0</td>\n",
       "      <td>37.0</td>\n",
       "      <td>136.0</td>\n",
       "      <td>5.0</td>\n",
       "    </tr>\n",
       "  </tbody>\n",
       "</table>\n",
       "</div>"
      ],
      "text/plain": [
       "   customer_id   tension tariff  power  department  section  segment  zone\n",
       "0        26429  BT 230 V    TRS   9500        16.0      1.0     18.0   2.0\n",
       "1         2293  BT 230 V    TGS   4400        16.0      1.0     13.0  15.0\n",
       "2        58415  BT 230 V    TRS   3700        14.0      1.0    113.0  26.0\n",
       "3         5893  BT 230 V    TRS   6200        16.0      1.0     13.0   6.0\n",
       "4        29815  BT 230 V    UTE   9200         3.0     37.0    136.0   5.0"
      ]
     },
     "execution_count": 5,
     "metadata": {},
     "output_type": "execute_result"
    }
   ],
   "source": [
    "data_customers = pd.read_csv(\n",
    "    BASE_DATA_SOURCE + '/customers.csv',\n",
    ")\n",
    "data_customers.head()"
   ]
  },
  {
   "cell_type": "markdown",
   "metadata": {},
   "source": [
    "## Load customer history data"
   ]
  },
  {
   "cell_type": "code",
   "execution_count": 6,
   "metadata": {
    "ExecuteTime": {
     "end_time": "2020-08-04T20:03:44.711595Z",
     "start_time": "2020-08-04T20:03:44.179419Z"
    }
   },
   "outputs": [
    {
     "data": {
      "text/html": [
       "<div>\n",
       "<style scoped>\n",
       "    .dataframe tbody tr th:only-of-type {\n",
       "        vertical-align: middle;\n",
       "    }\n",
       "\n",
       "    .dataframe tbody tr th {\n",
       "        vertical-align: top;\n",
       "    }\n",
       "\n",
       "    .dataframe thead th {\n",
       "        text-align: right;\n",
       "    }\n",
       "</style>\n",
       "<table border=\"1\" class=\"dataframe\">\n",
       "  <thead>\n",
       "    <tr style=\"text-align: right;\">\n",
       "      <th></th>\n",
       "      <th>customer_id</th>\n",
       "      <th>tension</th>\n",
       "      <th>start_datetime</th>\n",
       "      <th>end_datetime</th>\n",
       "      <th>power</th>\n",
       "      <th>consumption</th>\n",
       "      <th>avg_monthly_billing</th>\n",
       "    </tr>\n",
       "  </thead>\n",
       "  <tbody>\n",
       "    <tr>\n",
       "      <th>0</th>\n",
       "      <td>16752</td>\n",
       "      <td>BT</td>\n",
       "      <td>2017-01-01</td>\n",
       "      <td>2017-01-02</td>\n",
       "      <td>4600</td>\n",
       "      <td>202.0</td>\n",
       "      <td>NaN</td>\n",
       "    </tr>\n",
       "    <tr>\n",
       "      <th>1</th>\n",
       "      <td>16752</td>\n",
       "      <td>BT</td>\n",
       "      <td>2017-01-02</td>\n",
       "      <td>2017-01-03</td>\n",
       "      <td>4600</td>\n",
       "      <td>187.0</td>\n",
       "      <td>2007.88</td>\n",
       "    </tr>\n",
       "    <tr>\n",
       "      <th>2</th>\n",
       "      <td>16752</td>\n",
       "      <td>BT</td>\n",
       "      <td>2017-01-03</td>\n",
       "      <td>2017-01-04</td>\n",
       "      <td>4600</td>\n",
       "      <td>224.0</td>\n",
       "      <td>2007.88</td>\n",
       "    </tr>\n",
       "    <tr>\n",
       "      <th>3</th>\n",
       "      <td>16752</td>\n",
       "      <td>BT</td>\n",
       "      <td>2017-01-04</td>\n",
       "      <td>2017-01-05</td>\n",
       "      <td>4600</td>\n",
       "      <td>288.0</td>\n",
       "      <td>2007.88</td>\n",
       "    </tr>\n",
       "    <tr>\n",
       "      <th>4</th>\n",
       "      <td>16752</td>\n",
       "      <td>BT</td>\n",
       "      <td>2017-01-05</td>\n",
       "      <td>2017-01-06</td>\n",
       "      <td>4600</td>\n",
       "      <td>360.0</td>\n",
       "      <td>2007.88</td>\n",
       "    </tr>\n",
       "  </tbody>\n",
       "</table>\n",
       "</div>"
      ],
      "text/plain": [
       "   customer_id tension start_datetime end_datetime  power  consumption  \\\n",
       "0        16752      BT     2017-01-01   2017-01-02   4600        202.0   \n",
       "1        16752      BT     2017-01-02   2017-01-03   4600        187.0   \n",
       "2        16752      BT     2017-01-03   2017-01-04   4600        224.0   \n",
       "3        16752      BT     2017-01-04   2017-01-05   4600        288.0   \n",
       "4        16752      BT     2017-01-05   2017-01-06   4600        360.0   \n",
       "\n",
       "   avg_monthly_billing  \n",
       "0                  NaN  \n",
       "1              2007.88  \n",
       "2              2007.88  \n",
       "3              2007.88  \n",
       "4              2007.88  "
      ]
     },
     "execution_count": 6,
     "metadata": {},
     "output_type": "execute_result"
    }
   ],
   "source": [
    "data_customers = pd.read_csv(\n",
    "    BASE_DATA_SOURCE + '/customers_history.csv',\n",
    ")\n",
    "data_customers.head()"
   ]
  },
  {
   "cell_type": "markdown",
   "metadata": {},
   "source": [
    "## Load appliance-customer relationship data"
   ]
  },
  {
   "cell_type": "code",
   "execution_count": 7,
   "metadata": {
    "ExecuteTime": {
     "end_time": "2020-08-04T20:03:44.746362Z",
     "start_time": "2020-08-04T20:03:44.717442Z"
    }
   },
   "outputs": [
    {
     "data": {
      "text/html": [
       "<div>\n",
       "<style scoped>\n",
       "    .dataframe tbody tr th:only-of-type {\n",
       "        vertical-align: middle;\n",
       "    }\n",
       "\n",
       "    .dataframe tbody tr th {\n",
       "        vertical-align: top;\n",
       "    }\n",
       "\n",
       "    .dataframe thead th {\n",
       "        text-align: right;\n",
       "    }\n",
       "</style>\n",
       "<table border=\"1\" class=\"dataframe\">\n",
       "  <thead>\n",
       "    <tr style=\"text-align: right;\">\n",
       "      <th></th>\n",
       "      <th>app_meter_id</th>\n",
       "      <th>customer_id</th>\n",
       "    </tr>\n",
       "  </thead>\n",
       "  <tbody>\n",
       "    <tr>\n",
       "      <th>0</th>\n",
       "      <td>10499368</td>\n",
       "      <td>67</td>\n",
       "    </tr>\n",
       "    <tr>\n",
       "      <th>1</th>\n",
       "      <td>10501062</td>\n",
       "      <td>105</td>\n",
       "    </tr>\n",
       "    <tr>\n",
       "      <th>2</th>\n",
       "      <td>10501602</td>\n",
       "      <td>35</td>\n",
       "    </tr>\n",
       "    <tr>\n",
       "      <th>3</th>\n",
       "      <td>10499273</td>\n",
       "      <td>18</td>\n",
       "    </tr>\n",
       "    <tr>\n",
       "      <th>4</th>\n",
       "      <td>10499242</td>\n",
       "      <td>60</td>\n",
       "    </tr>\n",
       "  </tbody>\n",
       "</table>\n",
       "</div>"
      ],
      "text/plain": [
       "   app_meter_id  customer_id\n",
       "0      10499368           67\n",
       "1      10501062          105\n",
       "2      10501602           35\n",
       "3      10499273           18\n",
       "4      10499242           60"
      ]
     },
     "execution_count": 7,
     "metadata": {},
     "output_type": "execute_result"
    }
   ],
   "source": [
    "data_appl_cust = pd.read_csv(\n",
    "    BASE_DATA_SOURCE + '/appl_meter_customer_rel.csv',\n",
    ")\n",
    "data_appl_cust.head()"
   ]
  },
  {
   "cell_type": "markdown",
   "metadata": {},
   "source": [
    "## Load the appliance consumption data"
   ]
  },
  {
   "cell_type": "code",
   "execution_count": 8,
   "metadata": {
    "ExecuteTime": {
     "end_time": "2020-08-04T20:04:11.663728Z",
     "start_time": "2020-08-04T20:03:44.753151Z"
    },
    "scrolled": false
   },
   "outputs": [
    {
     "data": {
      "text/html": [
       "<div>\n",
       "<style scoped>\n",
       "    .dataframe tbody tr th:only-of-type {\n",
       "        vertical-align: middle;\n",
       "    }\n",
       "\n",
       "    .dataframe tbody tr th {\n",
       "        vertical-align: top;\n",
       "    }\n",
       "\n",
       "    .dataframe thead th {\n",
       "        text-align: right;\n",
       "    }\n",
       "</style>\n",
       "<table border=\"1\" class=\"dataframe\">\n",
       "  <thead>\n",
       "    <tr style=\"text-align: right;\">\n",
       "      <th></th>\n",
       "      <th>datetime</th>\n",
       "      <th>app_meter_id</th>\n",
       "      <th>value</th>\n",
       "      <th>voltage</th>\n",
       "    </tr>\n",
       "  </thead>\n",
       "  <tbody>\n",
       "    <tr>\n",
       "      <th>0</th>\n",
       "      <td>2018-09-01 00:00:55-03:00</td>\n",
       "      <td>866131033542461</td>\n",
       "      <td>0.0</td>\n",
       "      <td>28</td>\n",
       "    </tr>\n",
       "    <tr>\n",
       "      <th>1</th>\n",
       "      <td>2018-09-01 00:00:57-03:00</td>\n",
       "      <td>866131033547650</td>\n",
       "      <td>0.0</td>\n",
       "      <td>223</td>\n",
       "    </tr>\n",
       "    <tr>\n",
       "      <th>2</th>\n",
       "      <td>2018-09-01 00:00:49-03:00</td>\n",
       "      <td>866131033550118</td>\n",
       "      <td>0.0</td>\n",
       "      <td>234</td>\n",
       "    </tr>\n",
       "    <tr>\n",
       "      <th>3</th>\n",
       "      <td>2018-09-01 00:00:55-03:00</td>\n",
       "      <td>866873020621150</td>\n",
       "      <td>4.2</td>\n",
       "      <td>0</td>\n",
       "    </tr>\n",
       "    <tr>\n",
       "      <th>4</th>\n",
       "      <td>2018-09-01 00:01:55-03:00</td>\n",
       "      <td>866131033542461</td>\n",
       "      <td>0.0</td>\n",
       "      <td>28</td>\n",
       "    </tr>\n",
       "  </tbody>\n",
       "</table>\n",
       "</div>"
      ],
      "text/plain": [
       "                    datetime     app_meter_id  value  voltage\n",
       "0  2018-09-01 00:00:55-03:00  866131033542461    0.0       28\n",
       "1  2018-09-01 00:00:57-03:00  866131033547650    0.0      223\n",
       "2  2018-09-01 00:00:49-03:00  866131033550118    0.0      234\n",
       "3  2018-09-01 00:00:55-03:00  866873020621150    4.2        0\n",
       "4  2018-09-01 00:01:55-03:00  866131033542461    0.0       28"
      ]
     },
     "execution_count": 8,
     "metadata": {},
     "output_type": "execute_result"
    }
   ],
   "source": [
    "filenames = glob.glob(BASE_DATA_SOURCE + '/appl_consumption_data_*.csv')\n",
    "\n",
    "data_appl_consum = [pd.read_csv(\n",
    "    fname,\n",
    "    # parse_dates=[\"datetime\"],\n",
    "    # date_parser=lambda x: ciso8601.parse_datetime(x),\n",
    "    # cache_dates=True,\n",
    ") for fname in filenames]\n",
    "\n",
    "data_appl_consum = pd.concat(data_appl_consum, ignore_index=True)\n",
    "\n",
    "data_appl_consum.head()"
   ]
  },
  {
   "cell_type": "markdown",
   "metadata": {},
   "source": [
    "## Load main meter-customer relationship data"
   ]
  },
  {
   "cell_type": "code",
   "execution_count": 9,
   "metadata": {
    "ExecuteTime": {
     "end_time": "2020-08-04T20:04:11.776698Z",
     "start_time": "2020-08-04T20:04:11.734208Z"
    }
   },
   "outputs": [
    {
     "data": {
      "text/html": [
       "<div>\n",
       "<style scoped>\n",
       "    .dataframe tbody tr th:only-of-type {\n",
       "        vertical-align: middle;\n",
       "    }\n",
       "\n",
       "    .dataframe tbody tr th {\n",
       "        vertical-align: top;\n",
       "    }\n",
       "\n",
       "    .dataframe thead th {\n",
       "        text-align: right;\n",
       "    }\n",
       "</style>\n",
       "<table border=\"1\" class=\"dataframe\">\n",
       "  <thead>\n",
       "    <tr style=\"text-align: right;\">\n",
       "      <th></th>\n",
       "      <th>meter_id</th>\n",
       "      <th>customer_id</th>\n",
       "    </tr>\n",
       "  </thead>\n",
       "  <tbody>\n",
       "    <tr>\n",
       "      <th>0</th>\n",
       "      <td>1929257</td>\n",
       "      <td>16392</td>\n",
       "    </tr>\n",
       "    <tr>\n",
       "      <th>1</th>\n",
       "      <td>2238739</td>\n",
       "      <td>71</td>\n",
       "    </tr>\n",
       "    <tr>\n",
       "      <th>2</th>\n",
       "      <td>2267847</td>\n",
       "      <td>59001</td>\n",
       "    </tr>\n",
       "    <tr>\n",
       "      <th>3</th>\n",
       "      <td>2272395</td>\n",
       "      <td>59002</td>\n",
       "    </tr>\n",
       "    <tr>\n",
       "      <th>4</th>\n",
       "      <td>2256283</td>\n",
       "      <td>59003</td>\n",
       "    </tr>\n",
       "  </tbody>\n",
       "</table>\n",
       "</div>"
      ],
      "text/plain": [
       "   meter_id  customer_id\n",
       "0   1929257        16392\n",
       "1   2238739           71\n",
       "2   2267847        59001\n",
       "3   2272395        59002\n",
       "4   2256283        59003"
      ]
     },
     "execution_count": 9,
     "metadata": {},
     "output_type": "execute_result"
    }
   ],
   "source": [
    "data_appl_cust = pd.read_csv(\n",
    "    BASE_DATA_SOURCE + '/meter_customer_rel.csv',\n",
    ")\n",
    "data_appl_cust.head()"
   ]
  },
  {
   "cell_type": "markdown",
   "metadata": {},
   "source": [
    "## Load the total consumption data"
   ]
  },
  {
   "cell_type": "code",
   "execution_count": 10,
   "metadata": {
    "ExecuteTime": {
     "end_time": "2020-08-04T20:04:25.783765Z",
     "start_time": "2020-08-04T20:04:11.787488Z"
    },
    "scrolled": true
   },
   "outputs": [
    {
     "name": "stdout",
     "output_type": "stream",
     "text": [
      "Number of water heating consumptions records:\n",
      "(10663277, 8)\n"
     ]
    },
    {
     "data": {
      "text/html": [
       "<div>\n",
       "<style scoped>\n",
       "    .dataframe tbody tr th:only-of-type {\n",
       "        vertical-align: middle;\n",
       "    }\n",
       "\n",
       "    .dataframe tbody tr th {\n",
       "        vertical-align: top;\n",
       "    }\n",
       "\n",
       "    .dataframe thead th {\n",
       "        text-align: right;\n",
       "    }\n",
       "</style>\n",
       "<table border=\"1\" class=\"dataframe\">\n",
       "  <thead>\n",
       "    <tr style=\"text-align: right;\">\n",
       "      <th></th>\n",
       "      <th>datetime</th>\n",
       "      <th>meter_id</th>\n",
       "      <th>active_in</th>\n",
       "      <th>active_out</th>\n",
       "      <th>reactive_quad1</th>\n",
       "      <th>reactive_quad2</th>\n",
       "      <th>reactive_quad3</th>\n",
       "      <th>reactive_quad4</th>\n",
       "    </tr>\n",
       "  </thead>\n",
       "  <tbody>\n",
       "    <tr>\n",
       "      <th>0</th>\n",
       "      <td>2018-01-01 00:00:00-03:00</td>\n",
       "      <td>2257983</td>\n",
       "      <td>0.024</td>\n",
       "      <td>0.0</td>\n",
       "      <td>0.029</td>\n",
       "      <td>0.0</td>\n",
       "      <td>0.0</td>\n",
       "      <td>0.003</td>\n",
       "    </tr>\n",
       "    <tr>\n",
       "      <th>1</th>\n",
       "      <td>2018-01-01 00:00:00-03:00</td>\n",
       "      <td>2389927</td>\n",
       "      <td>0.000</td>\n",
       "      <td>0.0</td>\n",
       "      <td>0.000</td>\n",
       "      <td>0.0</td>\n",
       "      <td>0.0</td>\n",
       "      <td>0.000</td>\n",
       "    </tr>\n",
       "    <tr>\n",
       "      <th>2</th>\n",
       "      <td>2018-01-01 00:00:00-03:00</td>\n",
       "      <td>3710025</td>\n",
       "      <td>0.347</td>\n",
       "      <td>0.0</td>\n",
       "      <td>0.050</td>\n",
       "      <td>0.0</td>\n",
       "      <td>0.0</td>\n",
       "      <td>0.000</td>\n",
       "    </tr>\n",
       "    <tr>\n",
       "      <th>3</th>\n",
       "      <td>2018-01-01 00:00:00-03:00</td>\n",
       "      <td>3768811</td>\n",
       "      <td>0.147</td>\n",
       "      <td>0.0</td>\n",
       "      <td>0.121</td>\n",
       "      <td>0.0</td>\n",
       "      <td>0.0</td>\n",
       "      <td>0.000</td>\n",
       "    </tr>\n",
       "    <tr>\n",
       "      <th>4</th>\n",
       "      <td>2018-01-01 00:00:00-03:00</td>\n",
       "      <td>3772277</td>\n",
       "      <td>0.056</td>\n",
       "      <td>0.0</td>\n",
       "      <td>0.000</td>\n",
       "      <td>0.0</td>\n",
       "      <td>0.0</td>\n",
       "      <td>0.012</td>\n",
       "    </tr>\n",
       "  </tbody>\n",
       "</table>\n",
       "</div>"
      ],
      "text/plain": [
       "                    datetime  meter_id  active_in  active_out  reactive_quad1  \\\n",
       "0  2018-01-01 00:00:00-03:00   2257983      0.024         0.0           0.029   \n",
       "1  2018-01-01 00:00:00-03:00   2389927      0.000         0.0           0.000   \n",
       "2  2018-01-01 00:00:00-03:00   3710025      0.347         0.0           0.050   \n",
       "3  2018-01-01 00:00:00-03:00   3768811      0.147         0.0           0.121   \n",
       "4  2018-01-01 00:00:00-03:00   3772277      0.056         0.0           0.000   \n",
       "\n",
       "   reactive_quad2  reactive_quad3  reactive_quad4  \n",
       "0             0.0             0.0           0.003  \n",
       "1             0.0             0.0           0.000  \n",
       "2             0.0             0.0           0.000  \n",
       "3             0.0             0.0           0.000  \n",
       "4             0.0             0.0           0.012  "
      ]
     },
     "execution_count": 10,
     "metadata": {},
     "output_type": "execute_result"
    }
   ],
   "source": [
    "filenames = glob.glob(BASE_DATA_SOURCE + '/consumption_data_*.csv')\n",
    "\n",
    "data_total_consum = [pd.read_csv(\n",
    "    fname,\n",
    "    # parse_dates=[\"datetime\"],\n",
    "    # date_parser=lambda x: ciso8601.parse_datetime(x),\n",
    "    # cache_dates=True,\n",
    ") for fname in filenames]\n",
    "\n",
    "data_total_consum = pd.concat(data_total_consum, ignore_index=True)\n",
    "\n",
    "print(\"Number of water heating consumptions records:\")\n",
    "print(data_total_consum.shape)\n",
    "data_total_consum.head()"
   ]
  },
  {
   "cell_type": "markdown",
   "metadata": {},
   "source": [
    "## Example\n",
    "Average total and electric water heater consumption per hour of the day, during the month of August of 2017."
   ]
  },
  {
   "cell_type": "code",
   "execution_count": 12,
   "metadata": {
    "ExecuteTime": {
     "end_time": "2020-08-04T20:05:50.384905Z",
     "start_time": "2020-08-04T20:05:16.500260Z"
    }
   },
   "outputs": [],
   "source": [
    "data_appl_consum_201708 = data_appl_consum[data_appl_consum.datetime.str.startswith(\"2017-08\")]\n",
    "data_appl_consum_201708['datetime'] = data_appl_consum_201708.datetime.apply(lambda x: ciso8601.parse_datetime(x))\n",
    "data_appl_consum_201708.head()"
   ]
  },
  {
   "cell_type": "code",
   "execution_count": 23,
   "metadata": {
    "ExecuteTime": {
     "end_time": "2020-08-04T20:09:15.402948Z",
     "start_time": "2020-08-04T20:09:13.941288Z"
    }
   },
   "outputs": [
    {
     "data": {
      "text/plain": [
       "<matplotlib.axes._subplots.AxesSubplot at 0x7fdec3610940>"
      ]
     },
     "execution_count": 23,
     "metadata": {},
     "output_type": "execute_result"
    },
    {
     "data": {
      "image/png": "[encoded data removed]",
      "text/plain": [
       "<Figure size 1296x360 with 1 Axes>"
      ]
     },
     "metadata": {
      "needs_background": "light"
     },
     "output_type": "display_data"
    }
   ],
   "source": [
    "data_appl_consum_201708[\n",
    "    (data_appl_consum_201708.datetime.dt.year == 2017) & (data_appl_consum_201708.datetime.dt.month == 8)\n",
    "].groupby(data_appl_consum_201708.datetime.dt.hour)['value'].mean().plot()"
   ]
  },
  {
   "cell_type": "code",
   "execution_count": 17,
   "metadata": {
    "ExecuteTime": {
     "end_time": "2020-08-04T20:07:19.299898Z",
     "start_time": "2020-08-04T20:07:12.340506Z"
    }
   },
   "outputs": [
    {
     "data": {
      "text/html": [
       "<div>\n",
       "<style scoped>\n",
       "    .dataframe tbody tr th:only-of-type {\n",
       "        vertical-align: middle;\n",
       "    }\n",
       "\n",
       "    .dataframe tbody tr th {\n",
       "        vertical-align: top;\n",
       "    }\n",
       "\n",
       "    .dataframe thead th {\n",
       "        text-align: right;\n",
       "    }\n",
       "</style>\n",
       "<table border=\"1\" class=\"dataframe\">\n",
       "  <thead>\n",
       "    <tr style=\"text-align: right;\">\n",
       "      <th></th>\n",
       "      <th>datetime</th>\n",
       "      <th>meter_id</th>\n",
       "      <th>active_in</th>\n",
       "      <th>active_out</th>\n",
       "      <th>reactive_quad1</th>\n",
       "      <th>reactive_quad2</th>\n",
       "      <th>reactive_quad3</th>\n",
       "      <th>reactive_quad4</th>\n",
       "    </tr>\n",
       "  </thead>\n",
       "  <tbody>\n",
       "    <tr>\n",
       "      <th>3669533</th>\n",
       "      <td>2017-08-01 00:00:00-03:00</td>\n",
       "      <td>2257983</td>\n",
       "      <td>0.188</td>\n",
       "      <td>0.0</td>\n",
       "      <td>0.001</td>\n",
       "      <td>0.0</td>\n",
       "      <td>0.0</td>\n",
       "      <td>0.028</td>\n",
       "    </tr>\n",
       "    <tr>\n",
       "      <th>3669534</th>\n",
       "      <td>2017-08-01 00:00:00-03:00</td>\n",
       "      <td>2389927</td>\n",
       "      <td>0.000</td>\n",
       "      <td>0.0</td>\n",
       "      <td>0.000</td>\n",
       "      <td>NaN</td>\n",
       "      <td>NaN</td>\n",
       "      <td>NaN</td>\n",
       "    </tr>\n",
       "    <tr>\n",
       "      <th>3669535</th>\n",
       "      <td>2017-08-01 00:00:00-03:00</td>\n",
       "      <td>3710025</td>\n",
       "      <td>0.562</td>\n",
       "      <td>0.0</td>\n",
       "      <td>0.039</td>\n",
       "      <td>0.0</td>\n",
       "      <td>0.0</td>\n",
       "      <td>0.005</td>\n",
       "    </tr>\n",
       "    <tr>\n",
       "      <th>3669536</th>\n",
       "      <td>2017-08-01 00:00:00-03:00</td>\n",
       "      <td>3768811</td>\n",
       "      <td>0.387</td>\n",
       "      <td>0.0</td>\n",
       "      <td>0.114</td>\n",
       "      <td>0.0</td>\n",
       "      <td>0.0</td>\n",
       "      <td>0.000</td>\n",
       "    </tr>\n",
       "    <tr>\n",
       "      <th>3669537</th>\n",
       "      <td>2017-08-01 00:00:00-03:00</td>\n",
       "      <td>3772277</td>\n",
       "      <td>0.226</td>\n",
       "      <td>0.0</td>\n",
       "      <td>0.019</td>\n",
       "      <td>0.0</td>\n",
       "      <td>0.0</td>\n",
       "      <td>0.015</td>\n",
       "    </tr>\n",
       "  </tbody>\n",
       "</table>\n",
       "</div>"
      ],
      "text/plain": [
       "                         datetime  meter_id  active_in  active_out  \\\n",
       "3669533 2017-08-01 00:00:00-03:00   2257983      0.188         0.0   \n",
       "3669534 2017-08-01 00:00:00-03:00   2389927      0.000         0.0   \n",
       "3669535 2017-08-01 00:00:00-03:00   3710025      0.562         0.0   \n",
       "3669536 2017-08-01 00:00:00-03:00   3768811      0.387         0.0   \n",
       "3669537 2017-08-01 00:00:00-03:00   3772277      0.226         0.0   \n",
       "\n",
       "         reactive_quad1  reactive_quad2  reactive_quad3  reactive_quad4  \n",
       "3669533           0.001             0.0             0.0           0.028  \n",
       "3669534           0.000             NaN             NaN             NaN  \n",
       "3669535           0.039             0.0             0.0           0.005  \n",
       "3669536           0.114             0.0             0.0           0.000  \n",
       "3669537           0.019             0.0             0.0           0.015  "
      ]
     },
     "execution_count": 17,
     "metadata": {},
     "output_type": "execute_result"
    }
   ],
   "source": [
    "data_total_consum_201708 = data_total_consum[data_total_consum.datetime.str.startswith(\"2017-08\")]\n",
    "data_total_consum_201708['datetime'] = data_total_consum_201708.datetime.apply(lambda x: ciso8601.parse_datetime(x))\n",
    "data_total_consum_201708.head()"
   ]
  },
  {
   "cell_type": "code",
   "execution_count": 25,
   "metadata": {
    "ExecuteTime": {
     "end_time": "2020-08-04T20:09:39.131945Z",
     "start_time": "2020-08-04T20:09:38.823255Z"
    }
   },
   "outputs": [
    {
     "data": {
      "text/plain": [
       "<matplotlib.axes._subplots.AxesSubplot at 0x7fdec2e957f0>"
      ]
     },
     "execution_count": 25,
     "metadata": {},
     "output_type": "execute_result"
    },
    {
     "data": {
      "image/png": "[encoded data removed]",
      "text/plain": [
       "<Figure size 1296x360 with 1 Axes>"
      ]
     },
     "metadata": {
      "needs_background": "light"
     },
     "output_type": "display_data"
    }
   ],
   "source": [
    "data_total_consum_201708[\n",
    "    (data_total_consum_201708.datetime.dt.year == 2017) & (data_total_consum_201708.datetime.dt.month == 8)\n",
    "].groupby(by=data_total_consum_201708.datetime.dt.hour).active_in.mean().plot()"
   ]
  }
 ],
 "metadata": {
  "hide_input": false,
  "kernelspec": {
   "display_name": "Python 3",
   "language": "python",
   "name": "python3"
  },
  "language_info": {
   "codemirror_mode": {
    "name": "ipython",
    "version": 3
   },
   "file_extension": ".py",
   "mimetype": "text/x-python",
   "name": "python",
   "nbconvert_exporter": "python",
   "pygments_lexer": "ipython3",
   "version": "3.7.3"
  },
  "toc": {
   "base_numbering": 1,
   "nav_menu": {},
   "number_sections": true,
   "sideBar": true,
   "skip_h1_title": false,
   "title_cell": "Table of Contents",
   "title_sidebar": "Contents",
   "toc_cell": false,
   "toc_position": {},
   "toc_section_display": true,
   "toc_window_display": false
  },
  "varInspector": {
   "cols": {
    "lenName": 16,
    "lenType": 16,
    "lenVar": 40
   },
   "kernels_config": {
    "python": {
     "delete_cmd_postfix": "",
     "delete_cmd_prefix": "del ",
     "library": "var_list.py",
     "varRefreshCmd": "print(var_dic_list())"
    },
    "r": {
     "delete_cmd_postfix": ") ",
     "delete_cmd_prefix": "rm(",
     "library": "var_list.r",
     "varRefreshCmd": "cat(var_dic_list()) "
    }
   },
   "types_to_exclude": [
    "module",
    "function",
    "builtin_function_or_method",
    "instance",
    "_Feature"
   ],
   "window_display": false
  }
 },
 "nbformat": 4,
 "nbformat_minor": 4
}
