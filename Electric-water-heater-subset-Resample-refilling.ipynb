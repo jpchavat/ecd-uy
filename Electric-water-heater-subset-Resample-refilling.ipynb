{
 "cells": [
  {
   "cell_type": "markdown",
   "metadata": {},
   "source": [
    "# ECD-UY: Data resample and refilling example\n",
    "\n",
    "This notebook shows how to fix irregular periods of records and fill gaps of data. For this example it is used the electric water heater subset of ECD-UY, specifically the data consumption of the appliance."
   ]
  },
  {
   "cell_type": "markdown",
   "metadata": {},
   "source": [
    "## Load the needed libraries"
   ]
  },
  {
   "cell_type": "code",
   "execution_count": 1,
   "metadata": {
    "ExecuteTime": {
     "end_time": "2020-08-18T21:01:50.761486Z",
     "start_time": "2020-08-18T21:01:49.629132Z"
    }
   },
   "outputs": [
    {
     "name": "stdout",
     "output_type": "stream",
     "text": [
      "Populating the interactive namespace from numpy and matplotlib\n",
      "Pandas version 1.1.0\n"
     ]
    },
    {
     "name": "stderr",
     "output_type": "stream",
     "text": [
      "/Users/jp/anaconda3/lib/python3.7/site-packages/IPython/core/magics/pylab.py:160: UserWarning: pylab import has clobbered these variables: ['datetime']\n",
      "`%matplotlib` prevents importing * from pylab and numpy\n",
      "  \"\\n`%matplotlib` prevents importing * from pylab and numpy\"\n"
     ]
    }
   ],
   "source": [
    "# python\n",
    "import datetime\n",
    "from typing import List, Tuple, Union\n",
    "import glob\n",
    "from os.path import join, exists\n",
    "from os import makedirs\n",
    "import yaml\n",
    "import warnings\n",
    "from datetime import datetime, timedelta\n",
    "\n",
    "# data-science\n",
    "import pandas as pd\n",
    "import numpy as np\n",
    "import matplotlib.pyplot as plt\n",
    "import ciso8601\n",
    "\n",
    "%pylab inline\n",
    "%matplotlib inline\n",
    "plt.rcParams['figure.figsize'] = [18, 5]\n",
    "warnings.filterwarnings('ignore')\n",
    "warnings.simplefilter('ignore')\n",
    "\n",
    "print(\"Pandas version {}\".format(pd.__version__))"
   ]
  },
  {
   "cell_type": "markdown",
   "metadata": {},
   "source": [
    "## Download the subset"
   ]
  },
  {
   "cell_type": "code",
   "execution_count": 2,
   "metadata": {
    "ExecuteTime": {
     "end_time": "2020-08-18T21:01:51.056859Z",
     "start_time": "2020-08-18T21:01:50.767827Z"
    }
   },
   "outputs": [
    {
     "name": "stdout",
     "output_type": "stream",
     "text": [
      "  % Total    % Received % Xferd  Average Speed   Time    Time     Time  Current\n",
      "                                 Dload  Upload   Total   Spent    Left  Speed\n",
      "  0     0    0     0    0     0      0      0 --:--:-- --:--:-- --:--:--     0curl: (6) Could not resolve host: url-to-repo\n",
      "tar: Error opening archive: Failed to open 'electric-water-heater.tar.gz'\n"
     ]
    }
   ],
   "source": [
    "!curl -O https://url-to-repo/ecd-uy/electric-water-heater-subset.tar.gz\n",
    "!tar xzf electric-water-heater.tar.gz"
   ]
  },
  {
   "cell_type": "markdown",
   "metadata": {},
   "source": [
    "## Declare the path where the files are located"
   ]
  },
  {
   "cell_type": "code",
   "execution_count": 3,
   "metadata": {
    "ExecuteTime": {
     "end_time": "2020-08-18T21:01:51.068793Z",
     "start_time": "2020-08-18T21:01:51.061799Z"
    }
   },
   "outputs": [],
   "source": [
    "BASE_DATA_SOURCE = \"../../DATOS-CARACTERIZACION-UTE-STANDARDIZED\"\n",
    "# BASE_DATA_SOURCE = \"./electric-water-heater-subset\""
   ]
  },
  {
   "cell_type": "markdown",
   "metadata": {},
   "source": [
    "## Load the appliance consumption data"
   ]
  },
  {
   "cell_type": "code",
   "execution_count": 4,
   "metadata": {
    "ExecuteTime": {
     "end_time": "2020-08-18T21:02:19.664868Z",
     "start_time": "2020-08-18T21:01:51.074865Z"
    }
   },
   "outputs": [
    {
     "data": {
      "text/html": [
       "<div>\n",
       "<style scoped>\n",
       "    .dataframe tbody tr th:only-of-type {\n",
       "        vertical-align: middle;\n",
       "    }\n",
       "\n",
       "    .dataframe tbody tr th {\n",
       "        vertical-align: top;\n",
       "    }\n",
       "\n",
       "    .dataframe thead th {\n",
       "        text-align: right;\n",
       "    }\n",
       "</style>\n",
       "<table border=\"1\" class=\"dataframe\">\n",
       "  <thead>\n",
       "    <tr style=\"text-align: right;\">\n",
       "      <th></th>\n",
       "      <th>datetime</th>\n",
       "      <th>app_meter_id</th>\n",
       "      <th>value</th>\n",
       "      <th>voltage</th>\n",
       "    </tr>\n",
       "  </thead>\n",
       "  <tbody>\n",
       "    <tr>\n",
       "      <th>0</th>\n",
       "      <td>2018-09-01 00:00:55-03:00</td>\n",
       "      <td>866131033542461</td>\n",
       "      <td>0.0</td>\n",
       "      <td>28</td>\n",
       "    </tr>\n",
       "    <tr>\n",
       "      <th>1</th>\n",
       "      <td>2018-09-01 00:00:57-03:00</td>\n",
       "      <td>866131033547650</td>\n",
       "      <td>0.0</td>\n",
       "      <td>223</td>\n",
       "    </tr>\n",
       "    <tr>\n",
       "      <th>2</th>\n",
       "      <td>2018-09-01 00:00:49-03:00</td>\n",
       "      <td>866131033550118</td>\n",
       "      <td>0.0</td>\n",
       "      <td>234</td>\n",
       "    </tr>\n",
       "    <tr>\n",
       "      <th>3</th>\n",
       "      <td>2018-09-01 00:00:55-03:00</td>\n",
       "      <td>866873020621150</td>\n",
       "      <td>4.2</td>\n",
       "      <td>0</td>\n",
       "    </tr>\n",
       "    <tr>\n",
       "      <th>4</th>\n",
       "      <td>2018-09-01 00:01:55-03:00</td>\n",
       "      <td>866131033542461</td>\n",
       "      <td>0.0</td>\n",
       "      <td>28</td>\n",
       "    </tr>\n",
       "  </tbody>\n",
       "</table>\n",
       "</div>"
      ],
      "text/plain": [
       "                    datetime     app_meter_id  value  voltage\n",
       "0  2018-09-01 00:00:55-03:00  866131033542461    0.0       28\n",
       "1  2018-09-01 00:00:57-03:00  866131033547650    0.0      223\n",
       "2  2018-09-01 00:00:49-03:00  866131033550118    0.0      234\n",
       "3  2018-09-01 00:00:55-03:00  866873020621150    4.2        0\n",
       "4  2018-09-01 00:01:55-03:00  866131033542461    0.0       28"
      ]
     },
     "execution_count": 4,
     "metadata": {},
     "output_type": "execute_result"
    }
   ],
   "source": [
    "filenames = glob.glob(BASE_DATA_SOURCE + '/appl_consumption_data_*.csv')\n",
    "\n",
    "data_appl_consum = [pd.read_csv(\n",
    "    fname,\n",
    ") for fname in filenames]\n",
    "data_appl_consum = pd.concat(data_appl_consum, ignore_index=True)\n",
    "\n",
    "data_appl_consum.head()"
   ]
  },
  {
   "cell_type": "code",
   "execution_count": 5,
   "metadata": {
    "ExecuteTime": {
     "end_time": "2020-08-18T21:05:20.117222Z",
     "start_time": "2020-08-18T21:02:19.669632Z"
    }
   },
   "outputs": [
    {
     "data": {
      "text/html": [
       "<div>\n",
       "<style scoped>\n",
       "    .dataframe tbody tr th:only-of-type {\n",
       "        vertical-align: middle;\n",
       "    }\n",
       "\n",
       "    .dataframe tbody tr th {\n",
       "        vertical-align: top;\n",
       "    }\n",
       "\n",
       "    .dataframe thead th {\n",
       "        text-align: right;\n",
       "    }\n",
       "</style>\n",
       "<table border=\"1\" class=\"dataframe\">\n",
       "  <thead>\n",
       "    <tr style=\"text-align: right;\">\n",
       "      <th></th>\n",
       "      <th>datetime</th>\n",
       "      <th>app_meter_id</th>\n",
       "      <th>value</th>\n",
       "      <th>voltage</th>\n",
       "    </tr>\n",
       "  </thead>\n",
       "  <tbody>\n",
       "    <tr>\n",
       "      <th>171367</th>\n",
       "      <td>2017-07-01 00:00:55-03:00</td>\n",
       "      <td>10429800</td>\n",
       "      <td>0.0</td>\n",
       "      <td>227</td>\n",
       "    </tr>\n",
       "    <tr>\n",
       "      <th>171368</th>\n",
       "      <td>2017-07-01 00:00:16-03:00</td>\n",
       "      <td>10432617</td>\n",
       "      <td>0.0</td>\n",
       "      <td>248</td>\n",
       "    </tr>\n",
       "    <tr>\n",
       "      <th>171369</th>\n",
       "      <td>2017-07-01 00:00:06-03:00</td>\n",
       "      <td>10435950</td>\n",
       "      <td>0.0</td>\n",
       "      <td>257</td>\n",
       "    </tr>\n",
       "    <tr>\n",
       "      <th>171370</th>\n",
       "      <td>2017-07-01 00:00:22-03:00</td>\n",
       "      <td>10435972</td>\n",
       "      <td>0.0</td>\n",
       "      <td>259</td>\n",
       "    </tr>\n",
       "    <tr>\n",
       "      <th>171371</th>\n",
       "      <td>2017-07-01 00:00:56-03:00</td>\n",
       "      <td>10452106</td>\n",
       "      <td>0.0</td>\n",
       "      <td>178</td>\n",
       "    </tr>\n",
       "  </tbody>\n",
       "</table>\n",
       "</div>"
      ],
      "text/plain": [
       "                        datetime  app_meter_id  value  voltage\n",
       "171367 2017-07-01 00:00:55-03:00      10429800    0.0      227\n",
       "171368 2017-07-01 00:00:16-03:00      10432617    0.0      248\n",
       "171369 2017-07-01 00:00:06-03:00      10435950    0.0      257\n",
       "171370 2017-07-01 00:00:22-03:00      10435972    0.0      259\n",
       "171371 2017-07-01 00:00:56-03:00      10452106    0.0      178"
      ]
     },
     "execution_count": 5,
     "metadata": {},
     "output_type": "execute_result"
    }
   ],
   "source": [
    "# Limit the records to year 2017 and parse the datetimes column\n",
    "data_appl_consum_2017 = data_appl_consum[data_appl_consum.datetime.str.startswith(\"2017\")]\n",
    "data_appl_consum_2017['datetime'] = data_appl_consum_2017.datetime.apply(lambda x: ciso8601.parse_datetime(x))\n",
    "data_appl_consum_2017.head()"
   ]
  },
  {
   "cell_type": "markdown",
   "metadata": {},
   "source": [
    "## Resample of the data\n",
    "\n",
    "Resample the data to periods of strictrly one minute, taking the maximum values in case of several values coincide in the same minute bin. If no values exist for the minute bin, it is left as NaN."
   ]
  },
  {
   "cell_type": "code",
   "execution_count": 6,
   "metadata": {
    "ExecuteTime": {
     "end_time": "2020-08-18T21:06:02.212353Z",
     "start_time": "2020-08-18T21:05:20.124705Z"
    }
   },
   "outputs": [
    {
     "data": {
      "text/html": [
       "<div>\n",
       "<style scoped>\n",
       "    .dataframe tbody tr th:only-of-type {\n",
       "        vertical-align: middle;\n",
       "    }\n",
       "\n",
       "    .dataframe tbody tr th {\n",
       "        vertical-align: top;\n",
       "    }\n",
       "\n",
       "    .dataframe thead th {\n",
       "        text-align: right;\n",
       "    }\n",
       "</style>\n",
       "<table border=\"1\" class=\"dataframe\">\n",
       "  <thead>\n",
       "    <tr style=\"text-align: right;\">\n",
       "      <th></th>\n",
       "      <th>app_meter_id</th>\n",
       "      <th>datetime</th>\n",
       "      <th>value</th>\n",
       "      <th>voltage</th>\n",
       "    </tr>\n",
       "  </thead>\n",
       "  <tbody>\n",
       "    <tr>\n",
       "      <th>0</th>\n",
       "      <td>466147</td>\n",
       "      <td>2017-09-13 18:50:00-03:00</td>\n",
       "      <td>0.0</td>\n",
       "      <td>0.0</td>\n",
       "    </tr>\n",
       "    <tr>\n",
       "      <th>1</th>\n",
       "      <td>466147</td>\n",
       "      <td>2017-09-13 18:51:00-03:00</td>\n",
       "      <td>0.0</td>\n",
       "      <td>266.0</td>\n",
       "    </tr>\n",
       "    <tr>\n",
       "      <th>2</th>\n",
       "      <td>466147</td>\n",
       "      <td>2017-09-13 18:52:00-03:00</td>\n",
       "      <td>1800.0</td>\n",
       "      <td>276.0</td>\n",
       "    </tr>\n",
       "    <tr>\n",
       "      <th>3</th>\n",
       "      <td>466147</td>\n",
       "      <td>2017-09-13 18:53:00-03:00</td>\n",
       "      <td>0.0</td>\n",
       "      <td>372.0</td>\n",
       "    </tr>\n",
       "    <tr>\n",
       "      <th>4</th>\n",
       "      <td>466147</td>\n",
       "      <td>2017-09-13 18:54:00-03:00</td>\n",
       "      <td>0.0</td>\n",
       "      <td>178.0</td>\n",
       "    </tr>\n",
       "  </tbody>\n",
       "</table>\n",
       "</div>"
      ],
      "text/plain": [
       "   app_meter_id                  datetime   value  voltage\n",
       "0        466147 2017-09-13 18:50:00-03:00     0.0      0.0\n",
       "1        466147 2017-09-13 18:51:00-03:00     0.0    266.0\n",
       "2        466147 2017-09-13 18:52:00-03:00  1800.0    276.0\n",
       "3        466147 2017-09-13 18:53:00-03:00     0.0    372.0\n",
       "4        466147 2017-09-13 18:54:00-03:00     0.0    178.0"
      ]
     },
     "execution_count": 6,
     "metadata": {},
     "output_type": "execute_result"
    }
   ],
   "source": [
    "data_resampled = data_appl_consum_2017.groupby('app_meter_id').resample(\n",
    "    '1min', on='datetime', origin='start_day'\n",
    ").max()\n",
    "data_resampled = data_resampled.drop(columns=['datetime', 'app_meter_id']).reset_index()\n",
    "data_resampled.head()"
   ]
  },
  {
   "cell_type": "markdown",
   "metadata": {},
   "source": [
    "## Detecting gaps"
   ]
  },
  {
   "cell_type": "code",
   "execution_count": 29,
   "metadata": {
    "ExecuteTime": {
     "end_time": "2020-08-18T21:28:39.319406Z",
     "start_time": "2020-08-18T21:28:23.891764Z"
    }
   },
   "outputs": [
    {
     "name": "stdout",
     "output_type": "stream",
     "text": [
      "541    0 days 00:12:00\n",
      "1096   0 days 00:02:00\n",
      "1102   0 days 00:02:00\n",
      "1266   0 days 00:15:00\n",
      "1985   0 days 00:12:00\n",
      "2713   0 days 00:18:00\n",
      "3432   0 days 00:15:00\n",
      "3999   0 days 00:02:00\n",
      "4158   0 days 00:18:00\n",
      "4880   0 days 00:18:00\n",
      "Name: datetime, dtype: timedelta64[ns]\n",
      "Number of gaps detected: 85893\n"
     ]
    }
   ],
   "source": [
    "gaps = data_resampled[~data_resampled.value.isna()].groupby('app_meter_id').datetime.diff()[\n",
    "    lambda x: x > timedelta(minutes=1, seconds=0)\n",
    "]\n",
    "print(gaps.head(10))\n",
    "print(\"Number of gaps detected: {}\".format(gaps.shape[0]))"
   ]
  },
  {
   "cell_type": "markdown",
   "metadata": {
    "ExecuteTime": {
     "end_time": "2020-08-11T19:46:43.039077Z",
     "start_time": "2020-08-11T19:46:43.034341Z"
    }
   },
   "source": [
    "For the records of the year 2017, 85.893 gaps were detected. Gaps are intervals greater than the period of one minutes. Next, many stats are calculated to have a better description of the characteristics of the gaps and determine when a gap is short or when it is long."
   ]
  },
  {
   "cell_type": "code",
   "execution_count": 33,
   "metadata": {
    "ExecuteTime": {
     "end_time": "2020-08-18T21:33:43.117581Z",
     "start_time": "2020-08-18T21:33:43.092292Z"
    }
   },
   "outputs": [
    {
     "name": "stdout",
     "output_type": "stream",
     "text": [
      "count                        85893\n",
      "mean     0 days 00:57:28.361566134\n",
      "std      0 days 18:53:16.580367471\n",
      "min                0 days 00:02:00\n",
      "25%                0 days 00:04:00\n",
      "50%                0 days 00:12:00\n",
      "75%                0 days 00:15:00\n",
      "90%                0 days 00:19:00\n",
      "95%                0 days 00:27:00\n",
      "max              103 days 01:56:00\n",
      "Name: datetime, dtype: object\n",
      "\n",
      "median\t0 days 00:12:00\n"
     ]
    }
   ],
   "source": [
    "print(gaps.describe(percentiles=[.25, .5, .75, .9, .95]))\n",
    "print(\"\\nmedian\\t{}\".format(gaps.median()))"
   ]
  },
  {
   "cell_type": "markdown",
   "metadata": {
    "ExecuteTime": {
     "end_time": "2020-08-11T23:54:41.500932Z",
     "start_time": "2020-08-11T23:53:37.939855Z"
    }
   },
   "source": [
    "Taking into account the calculated stats, the gap lenght of 12 minutes is taken as the threshold to classify between short and long gaps, i.e., if a gap length is lower than 12 minutes the gap is considered short, elsewhere, it is considered long."
   ]
  },
  {
   "cell_type": "markdown",
   "metadata": {},
   "source": [
    "### Detect long gaps"
   ]
  },
  {
   "cell_type": "code",
   "execution_count": 22,
   "metadata": {
    "ExecuteTime": {
     "end_time": "2020-08-18T21:26:40.988274Z",
     "start_time": "2020-08-18T21:25:56.800920Z"
    }
   },
   "outputs": [],
   "source": [
    "mask = data_resampled.copy()\n",
    "def check_null_val(g):\n",
    "    g['ones'] = 1  # column const to 1\n",
    "    g['cumsum'] = g.value.notnull().cumsum()  # Increment only in presence of True, thus, increment only when value is not null\n",
    "    g['long_gap'] = (g.groupby('cumsum').transform('count')['ones'] > 12) & g['value'].isnull()\n",
    "    return g\n",
    "mask = mask.groupby('app_meter_id').apply(check_null_val)"
   ]
  },
  {
   "cell_type": "code",
   "execution_count": 28,
   "metadata": {
    "ExecuteTime": {
     "end_time": "2020-08-18T21:27:47.378911Z",
     "start_time": "2020-08-18T21:27:47.352049Z"
    }
   },
   "outputs": [
    {
     "data": {
      "text/html": [
       "<div>\n",
       "<style scoped>\n",
       "    .dataframe tbody tr th:only-of-type {\n",
       "        vertical-align: middle;\n",
       "    }\n",
       "\n",
       "    .dataframe tbody tr th {\n",
       "        vertical-align: top;\n",
       "    }\n",
       "\n",
       "    .dataframe thead th {\n",
       "        text-align: right;\n",
       "    }\n",
       "</style>\n",
       "<table border=\"1\" class=\"dataframe\">\n",
       "  <thead>\n",
       "    <tr style=\"text-align: right;\">\n",
       "      <th></th>\n",
       "      <th>app_meter_id</th>\n",
       "      <th>datetime</th>\n",
       "      <th>value</th>\n",
       "      <th>voltage</th>\n",
       "      <th>ones</th>\n",
       "      <th>cumsum</th>\n",
       "      <th>long_gap</th>\n",
       "    </tr>\n",
       "  </thead>\n",
       "  <tbody>\n",
       "    <tr>\n",
       "      <th>1250</th>\n",
       "      <td>466147</td>\n",
       "      <td>2017-09-14 15:40:00-03:00</td>\n",
       "      <td>1800.0</td>\n",
       "      <td>236.0</td>\n",
       "      <td>1</td>\n",
       "      <td>1238</td>\n",
       "      <td>False</td>\n",
       "    </tr>\n",
       "    <tr>\n",
       "      <th>1251</th>\n",
       "      <td>466147</td>\n",
       "      <td>2017-09-14 15:41:00-03:00</td>\n",
       "      <td>1728.0</td>\n",
       "      <td>231.0</td>\n",
       "      <td>1</td>\n",
       "      <td>1239</td>\n",
       "      <td>False</td>\n",
       "    </tr>\n",
       "    <tr>\n",
       "      <th>1252</th>\n",
       "      <td>466147</td>\n",
       "      <td>2017-09-14 15:42:00-03:00</td>\n",
       "      <td>NaN</td>\n",
       "      <td>NaN</td>\n",
       "      <td>1</td>\n",
       "      <td>1239</td>\n",
       "      <td>True</td>\n",
       "    </tr>\n",
       "    <tr>\n",
       "      <th>1253</th>\n",
       "      <td>466147</td>\n",
       "      <td>2017-09-14 15:43:00-03:00</td>\n",
       "      <td>NaN</td>\n",
       "      <td>NaN</td>\n",
       "      <td>1</td>\n",
       "      <td>1239</td>\n",
       "      <td>True</td>\n",
       "    </tr>\n",
       "    <tr>\n",
       "      <th>1254</th>\n",
       "      <td>466147</td>\n",
       "      <td>2017-09-14 15:44:00-03:00</td>\n",
       "      <td>NaN</td>\n",
       "      <td>NaN</td>\n",
       "      <td>1</td>\n",
       "      <td>1239</td>\n",
       "      <td>True</td>\n",
       "    </tr>\n",
       "    <tr>\n",
       "      <th>1255</th>\n",
       "      <td>466147</td>\n",
       "      <td>2017-09-14 15:45:00-03:00</td>\n",
       "      <td>NaN</td>\n",
       "      <td>NaN</td>\n",
       "      <td>1</td>\n",
       "      <td>1239</td>\n",
       "      <td>True</td>\n",
       "    </tr>\n",
       "    <tr>\n",
       "      <th>1256</th>\n",
       "      <td>466147</td>\n",
       "      <td>2017-09-14 15:46:00-03:00</td>\n",
       "      <td>NaN</td>\n",
       "      <td>NaN</td>\n",
       "      <td>1</td>\n",
       "      <td>1239</td>\n",
       "      <td>True</td>\n",
       "    </tr>\n",
       "    <tr>\n",
       "      <th>1257</th>\n",
       "      <td>466147</td>\n",
       "      <td>2017-09-14 15:47:00-03:00</td>\n",
       "      <td>NaN</td>\n",
       "      <td>NaN</td>\n",
       "      <td>1</td>\n",
       "      <td>1239</td>\n",
       "      <td>True</td>\n",
       "    </tr>\n",
       "    <tr>\n",
       "      <th>1258</th>\n",
       "      <td>466147</td>\n",
       "      <td>2017-09-14 15:48:00-03:00</td>\n",
       "      <td>NaN</td>\n",
       "      <td>NaN</td>\n",
       "      <td>1</td>\n",
       "      <td>1239</td>\n",
       "      <td>True</td>\n",
       "    </tr>\n",
       "    <tr>\n",
       "      <th>1259</th>\n",
       "      <td>466147</td>\n",
       "      <td>2017-09-14 15:49:00-03:00</td>\n",
       "      <td>NaN</td>\n",
       "      <td>NaN</td>\n",
       "      <td>1</td>\n",
       "      <td>1239</td>\n",
       "      <td>True</td>\n",
       "    </tr>\n",
       "    <tr>\n",
       "      <th>1260</th>\n",
       "      <td>466147</td>\n",
       "      <td>2017-09-14 15:50:00-03:00</td>\n",
       "      <td>NaN</td>\n",
       "      <td>NaN</td>\n",
       "      <td>1</td>\n",
       "      <td>1239</td>\n",
       "      <td>True</td>\n",
       "    </tr>\n",
       "    <tr>\n",
       "      <th>1261</th>\n",
       "      <td>466147</td>\n",
       "      <td>2017-09-14 15:51:00-03:00</td>\n",
       "      <td>NaN</td>\n",
       "      <td>NaN</td>\n",
       "      <td>1</td>\n",
       "      <td>1239</td>\n",
       "      <td>True</td>\n",
       "    </tr>\n",
       "    <tr>\n",
       "      <th>1262</th>\n",
       "      <td>466147</td>\n",
       "      <td>2017-09-14 15:52:00-03:00</td>\n",
       "      <td>NaN</td>\n",
       "      <td>NaN</td>\n",
       "      <td>1</td>\n",
       "      <td>1239</td>\n",
       "      <td>True</td>\n",
       "    </tr>\n",
       "    <tr>\n",
       "      <th>1263</th>\n",
       "      <td>466147</td>\n",
       "      <td>2017-09-14 15:53:00-03:00</td>\n",
       "      <td>NaN</td>\n",
       "      <td>NaN</td>\n",
       "      <td>1</td>\n",
       "      <td>1239</td>\n",
       "      <td>True</td>\n",
       "    </tr>\n",
       "    <tr>\n",
       "      <th>1264</th>\n",
       "      <td>466147</td>\n",
       "      <td>2017-09-14 15:54:00-03:00</td>\n",
       "      <td>NaN</td>\n",
       "      <td>NaN</td>\n",
       "      <td>1</td>\n",
       "      <td>1239</td>\n",
       "      <td>True</td>\n",
       "    </tr>\n",
       "    <tr>\n",
       "      <th>1265</th>\n",
       "      <td>466147</td>\n",
       "      <td>2017-09-14 15:55:00-03:00</td>\n",
       "      <td>NaN</td>\n",
       "      <td>NaN</td>\n",
       "      <td>1</td>\n",
       "      <td>1239</td>\n",
       "      <td>True</td>\n",
       "    </tr>\n",
       "    <tr>\n",
       "      <th>1266</th>\n",
       "      <td>466147</td>\n",
       "      <td>2017-09-14 15:56:00-03:00</td>\n",
       "      <td>2136.0</td>\n",
       "      <td>234.0</td>\n",
       "      <td>1</td>\n",
       "      <td>1240</td>\n",
       "      <td>False</td>\n",
       "    </tr>\n",
       "    <tr>\n",
       "      <th>1267</th>\n",
       "      <td>466147</td>\n",
       "      <td>2017-09-14 15:57:00-03:00</td>\n",
       "      <td>2112.0</td>\n",
       "      <td>228.0</td>\n",
       "      <td>1</td>\n",
       "      <td>1241</td>\n",
       "      <td>False</td>\n",
       "    </tr>\n",
       "    <tr>\n",
       "      <th>1268</th>\n",
       "      <td>466147</td>\n",
       "      <td>2017-09-14 15:58:00-03:00</td>\n",
       "      <td>0.0</td>\n",
       "      <td>243.0</td>\n",
       "      <td>1</td>\n",
       "      <td>1242</td>\n",
       "      <td>False</td>\n",
       "    </tr>\n",
       "    <tr>\n",
       "      <th>1269</th>\n",
       "      <td>466147</td>\n",
       "      <td>2017-09-14 15:59:00-03:00</td>\n",
       "      <td>0.0</td>\n",
       "      <td>241.0</td>\n",
       "      <td>1</td>\n",
       "      <td>1243</td>\n",
       "      <td>False</td>\n",
       "    </tr>\n",
       "  </tbody>\n",
       "</table>\n",
       "</div>"
      ],
      "text/plain": [
       "      app_meter_id                  datetime   value  voltage  ones  cumsum  \\\n",
       "1250        466147 2017-09-14 15:40:00-03:00  1800.0    236.0     1    1238   \n",
       "1251        466147 2017-09-14 15:41:00-03:00  1728.0    231.0     1    1239   \n",
       "1252        466147 2017-09-14 15:42:00-03:00     NaN      NaN     1    1239   \n",
       "1253        466147 2017-09-14 15:43:00-03:00     NaN      NaN     1    1239   \n",
       "1254        466147 2017-09-14 15:44:00-03:00     NaN      NaN     1    1239   \n",
       "1255        466147 2017-09-14 15:45:00-03:00     NaN      NaN     1    1239   \n",
       "1256        466147 2017-09-14 15:46:00-03:00     NaN      NaN     1    1239   \n",
       "1257        466147 2017-09-14 15:47:00-03:00     NaN      NaN     1    1239   \n",
       "1258        466147 2017-09-14 15:48:00-03:00     NaN      NaN     1    1239   \n",
       "1259        466147 2017-09-14 15:49:00-03:00     NaN      NaN     1    1239   \n",
       "1260        466147 2017-09-14 15:50:00-03:00     NaN      NaN     1    1239   \n",
       "1261        466147 2017-09-14 15:51:00-03:00     NaN      NaN     1    1239   \n",
       "1262        466147 2017-09-14 15:52:00-03:00     NaN      NaN     1    1239   \n",
       "1263        466147 2017-09-14 15:53:00-03:00     NaN      NaN     1    1239   \n",
       "1264        466147 2017-09-14 15:54:00-03:00     NaN      NaN     1    1239   \n",
       "1265        466147 2017-09-14 15:55:00-03:00     NaN      NaN     1    1239   \n",
       "1266        466147 2017-09-14 15:56:00-03:00  2136.0    234.0     1    1240   \n",
       "1267        466147 2017-09-14 15:57:00-03:00  2112.0    228.0     1    1241   \n",
       "1268        466147 2017-09-14 15:58:00-03:00     0.0    243.0     1    1242   \n",
       "1269        466147 2017-09-14 15:59:00-03:00     0.0    241.0     1    1243   \n",
       "\n",
       "      long_gap  \n",
       "1250     False  \n",
       "1251     False  \n",
       "1252      True  \n",
       "1253      True  \n",
       "1254      True  \n",
       "1255      True  \n",
       "1256      True  \n",
       "1257      True  \n",
       "1258      True  \n",
       "1259      True  \n",
       "1260      True  \n",
       "1261      True  \n",
       "1262      True  \n",
       "1263      True  \n",
       "1264      True  \n",
       "1265      True  \n",
       "1266     False  \n",
       "1267     False  \n",
       "1268     False  \n",
       "1269     False  "
      ]
     },
     "execution_count": 28,
     "metadata": {},
     "output_type": "execute_result"
    }
   ],
   "source": [
    "# Example of long gap\n",
    "mask.iloc[1250:1270]"
   ]
  },
  {
   "cell_type": "markdown",
   "metadata": {},
   "source": [
    "The mask will be used next to interpolate ONLY the short gaps and set to zeto the long gaps."
   ]
  },
  {
   "cell_type": "markdown",
   "metadata": {
    "ExecuteTime": {
     "end_time": "2020-08-14T23:38:00.498426Z",
     "start_time": "2020-08-14T23:38:00.479879Z"
    }
   },
   "source": [
    "## Refilling gaps"
   ]
  },
  {
   "cell_type": "markdown",
   "metadata": {
    "ExecuteTime": {
     "end_time": "2020-08-14T23:39:05.294343Z",
     "start_time": "2020-08-14T23:39:05.275634Z"
    }
   },
   "source": [
    "Short gaps will be refilled with an interpolation technique while the long gaps, interpreted as the appliance was shut down, will be refilled with zero value."
   ]
  },
  {
   "cell_type": "code",
   "execution_count": 36,
   "metadata": {
    "ExecuteTime": {
     "end_time": "2020-08-18T21:42:10.999938Z",
     "start_time": "2020-08-18T21:42:10.144280Z"
    }
   },
   "outputs": [
    {
     "name": "stdout",
     "output_type": "stream",
     "text": [
      "A total of 4850609 values are missed, where 282933 corresponds to short gaps and 4567676 corresponds to long ones.\n"
     ]
    }
   ],
   "source": [
    "total_missed_values = mask[mask.value.isnull()].shape[0]\n",
    "short_missed_values = mask[mask.value.isnull() & ~mask.long_gap].shape[0]\n",
    "long_missed_values = mask[mask.value.isnull() & mask.long_gap].shape[0]\n",
    "print(\n",
    "    \"A total of {} values are missed, \"\n",
    "    \"where {} corresponds to short gaps and {} corresponds to long ones.\".format(\n",
    "        total_missed_values, short_missed_values, long_missed_values\n",
    "    )\n",
    ")"
   ]
  },
  {
   "cell_type": "code",
   "execution_count": 43,
   "metadata": {
    "ExecuteTime": {
     "end_time": "2020-08-18T21:54:48.445451Z",
     "start_time": "2020-08-18T21:54:29.978365Z"
    }
   },
   "outputs": [],
   "source": [
    "data_resampled_refilled = data_resampled.copy()\n",
    "data_resampled_refilled.value = data_resampled.value.interpolate(method='linear')\n",
    "data_resampled_refilled.voltage = data_resampled.value.interpolate(method='linear')\n",
    "data_resampled_refilled.value[mask.long_gap] = 0\n",
    "data_resampled_refilled.voltage[mask.long_gap] = 0"
   ]
  },
  {
   "cell_type": "code",
   "execution_count": 54,
   "metadata": {
    "ExecuteTime": {
     "end_time": "2020-08-18T22:04:10.077525Z",
     "start_time": "2020-08-18T22:04:09.274373Z"
    }
   },
   "outputs": [
    {
     "name": "stdout",
     "output_type": "stream",
     "text": [
      "     app_meter_id                  datetime   value  voltage\n",
      "525        466147 2017-09-14 03:35:00-03:00  1776.0    567.0\n",
      "526        466147 2017-09-14 03:36:00-03:00  1776.0    154.0\n",
      "527        466147 2017-09-14 03:37:00-03:00  1800.0    191.0\n",
      "528        466147 2017-09-14 03:38:00-03:00  1776.0   1457.0\n",
      "529        466147 2017-09-14 03:39:00-03:00  1776.0    125.0\n",
      "530        466147 2017-09-14 03:40:00-03:00     NaN      NaN\n",
      "531        466147 2017-09-14 03:41:00-03:00     NaN      NaN\n",
      "532        466147 2017-09-14 03:42:00-03:00     NaN      NaN\n",
      "533        466147 2017-09-14 03:43:00-03:00     NaN      NaN\n",
      "534        466147 2017-09-14 03:44:00-03:00     NaN      NaN\n",
      "     app_meter_id                  datetime   value  voltage\n",
      "525        466147 2017-09-14 03:35:00-03:00  1776.0   1776.0\n",
      "526        466147 2017-09-14 03:36:00-03:00  1776.0   1776.0\n",
      "527        466147 2017-09-14 03:37:00-03:00  1800.0   1800.0\n",
      "528        466147 2017-09-14 03:38:00-03:00  1776.0   1776.0\n",
      "529        466147 2017-09-14 03:39:00-03:00  1776.0   1776.0\n",
      "530        466147 2017-09-14 03:40:00-03:00  1812.0   1812.0\n",
      "531        466147 2017-09-14 03:41:00-03:00  1848.0   1848.0\n",
      "532        466147 2017-09-14 03:42:00-03:00  1884.0   1884.0\n",
      "533        466147 2017-09-14 03:43:00-03:00  1920.0   1920.0\n",
      "534        466147 2017-09-14 03:44:00-03:00  1956.0   1956.0\n"
     ]
    }
   ],
   "source": [
    "# Validate short gap\n",
    "print(mask[['app_meter_id', 'datetime', 'value', 'voltage']].iloc[525:535])\n",
    "print(data_resampled_refilled.iloc[525:535])"
   ]
  },
  {
   "cell_type": "code",
   "execution_count": 44,
   "metadata": {
    "ExecuteTime": {
     "end_time": "2020-08-18T21:54:49.034208Z",
     "start_time": "2020-08-18T21:54:49.000236Z"
    }
   },
   "outputs": [
    {
     "data": {
      "text/html": [
       "<div>\n",
       "<style scoped>\n",
       "    .dataframe tbody tr th:only-of-type {\n",
       "        vertical-align: middle;\n",
       "    }\n",
       "\n",
       "    .dataframe tbody tr th {\n",
       "        vertical-align: top;\n",
       "    }\n",
       "\n",
       "    .dataframe thead th {\n",
       "        text-align: right;\n",
       "    }\n",
       "</style>\n",
       "<table border=\"1\" class=\"dataframe\">\n",
       "  <thead>\n",
       "    <tr style=\"text-align: right;\">\n",
       "      <th></th>\n",
       "      <th>app_meter_id</th>\n",
       "      <th>datetime</th>\n",
       "      <th>value</th>\n",
       "      <th>voltage</th>\n",
       "    </tr>\n",
       "  </thead>\n",
       "  <tbody>\n",
       "    <tr>\n",
       "      <th>1250</th>\n",
       "      <td>466147</td>\n",
       "      <td>2017-09-14 15:40:00-03:00</td>\n",
       "      <td>1800.0</td>\n",
       "      <td>1800.0</td>\n",
       "    </tr>\n",
       "    <tr>\n",
       "      <th>1251</th>\n",
       "      <td>466147</td>\n",
       "      <td>2017-09-14 15:41:00-03:00</td>\n",
       "      <td>1728.0</td>\n",
       "      <td>1728.0</td>\n",
       "    </tr>\n",
       "    <tr>\n",
       "      <th>1252</th>\n",
       "      <td>466147</td>\n",
       "      <td>2017-09-14 15:42:00-03:00</td>\n",
       "      <td>0.0</td>\n",
       "      <td>0.0</td>\n",
       "    </tr>\n",
       "    <tr>\n",
       "      <th>1253</th>\n",
       "      <td>466147</td>\n",
       "      <td>2017-09-14 15:43:00-03:00</td>\n",
       "      <td>0.0</td>\n",
       "      <td>0.0</td>\n",
       "    </tr>\n",
       "    <tr>\n",
       "      <th>1254</th>\n",
       "      <td>466147</td>\n",
       "      <td>2017-09-14 15:44:00-03:00</td>\n",
       "      <td>0.0</td>\n",
       "      <td>0.0</td>\n",
       "    </tr>\n",
       "    <tr>\n",
       "      <th>1255</th>\n",
       "      <td>466147</td>\n",
       "      <td>2017-09-14 15:45:00-03:00</td>\n",
       "      <td>0.0</td>\n",
       "      <td>0.0</td>\n",
       "    </tr>\n",
       "    <tr>\n",
       "      <th>1256</th>\n",
       "      <td>466147</td>\n",
       "      <td>2017-09-14 15:46:00-03:00</td>\n",
       "      <td>0.0</td>\n",
       "      <td>0.0</td>\n",
       "    </tr>\n",
       "    <tr>\n",
       "      <th>1257</th>\n",
       "      <td>466147</td>\n",
       "      <td>2017-09-14 15:47:00-03:00</td>\n",
       "      <td>0.0</td>\n",
       "      <td>0.0</td>\n",
       "    </tr>\n",
       "    <tr>\n",
       "      <th>1258</th>\n",
       "      <td>466147</td>\n",
       "      <td>2017-09-14 15:48:00-03:00</td>\n",
       "      <td>0.0</td>\n",
       "      <td>0.0</td>\n",
       "    </tr>\n",
       "    <tr>\n",
       "      <th>1259</th>\n",
       "      <td>466147</td>\n",
       "      <td>2017-09-14 15:49:00-03:00</td>\n",
       "      <td>0.0</td>\n",
       "      <td>0.0</td>\n",
       "    </tr>\n",
       "    <tr>\n",
       "      <th>1260</th>\n",
       "      <td>466147</td>\n",
       "      <td>2017-09-14 15:50:00-03:00</td>\n",
       "      <td>0.0</td>\n",
       "      <td>0.0</td>\n",
       "    </tr>\n",
       "    <tr>\n",
       "      <th>1261</th>\n",
       "      <td>466147</td>\n",
       "      <td>2017-09-14 15:51:00-03:00</td>\n",
       "      <td>0.0</td>\n",
       "      <td>0.0</td>\n",
       "    </tr>\n",
       "    <tr>\n",
       "      <th>1262</th>\n",
       "      <td>466147</td>\n",
       "      <td>2017-09-14 15:52:00-03:00</td>\n",
       "      <td>0.0</td>\n",
       "      <td>0.0</td>\n",
       "    </tr>\n",
       "    <tr>\n",
       "      <th>1263</th>\n",
       "      <td>466147</td>\n",
       "      <td>2017-09-14 15:53:00-03:00</td>\n",
       "      <td>0.0</td>\n",
       "      <td>0.0</td>\n",
       "    </tr>\n",
       "    <tr>\n",
       "      <th>1264</th>\n",
       "      <td>466147</td>\n",
       "      <td>2017-09-14 15:54:00-03:00</td>\n",
       "      <td>0.0</td>\n",
       "      <td>0.0</td>\n",
       "    </tr>\n",
       "    <tr>\n",
       "      <th>1265</th>\n",
       "      <td>466147</td>\n",
       "      <td>2017-09-14 15:55:00-03:00</td>\n",
       "      <td>0.0</td>\n",
       "      <td>0.0</td>\n",
       "    </tr>\n",
       "    <tr>\n",
       "      <th>1266</th>\n",
       "      <td>466147</td>\n",
       "      <td>2017-09-14 15:56:00-03:00</td>\n",
       "      <td>2136.0</td>\n",
       "      <td>2136.0</td>\n",
       "    </tr>\n",
       "    <tr>\n",
       "      <th>1267</th>\n",
       "      <td>466147</td>\n",
       "      <td>2017-09-14 15:57:00-03:00</td>\n",
       "      <td>2112.0</td>\n",
       "      <td>2112.0</td>\n",
       "    </tr>\n",
       "    <tr>\n",
       "      <th>1268</th>\n",
       "      <td>466147</td>\n",
       "      <td>2017-09-14 15:58:00-03:00</td>\n",
       "      <td>0.0</td>\n",
       "      <td>0.0</td>\n",
       "    </tr>\n",
       "    <tr>\n",
       "      <th>1269</th>\n",
       "      <td>466147</td>\n",
       "      <td>2017-09-14 15:59:00-03:00</td>\n",
       "      <td>0.0</td>\n",
       "      <td>0.0</td>\n",
       "    </tr>\n",
       "  </tbody>\n",
       "</table>\n",
       "</div>"
      ],
      "text/plain": [
       "      app_meter_id                  datetime   value  voltage\n",
       "1250        466147 2017-09-14 15:40:00-03:00  1800.0   1800.0\n",
       "1251        466147 2017-09-14 15:41:00-03:00  1728.0   1728.0\n",
       "1252        466147 2017-09-14 15:42:00-03:00     0.0      0.0\n",
       "1253        466147 2017-09-14 15:43:00-03:00     0.0      0.0\n",
       "1254        466147 2017-09-14 15:44:00-03:00     0.0      0.0\n",
       "1255        466147 2017-09-14 15:45:00-03:00     0.0      0.0\n",
       "1256        466147 2017-09-14 15:46:00-03:00     0.0      0.0\n",
       "1257        466147 2017-09-14 15:47:00-03:00     0.0      0.0\n",
       "1258        466147 2017-09-14 15:48:00-03:00     0.0      0.0\n",
       "1259        466147 2017-09-14 15:49:00-03:00     0.0      0.0\n",
       "1260        466147 2017-09-14 15:50:00-03:00     0.0      0.0\n",
       "1261        466147 2017-09-14 15:51:00-03:00     0.0      0.0\n",
       "1262        466147 2017-09-14 15:52:00-03:00     0.0      0.0\n",
       "1263        466147 2017-09-14 15:53:00-03:00     0.0      0.0\n",
       "1264        466147 2017-09-14 15:54:00-03:00     0.0      0.0\n",
       "1265        466147 2017-09-14 15:55:00-03:00     0.0      0.0\n",
       "1266        466147 2017-09-14 15:56:00-03:00  2136.0   2136.0\n",
       "1267        466147 2017-09-14 15:57:00-03:00  2112.0   2112.0\n",
       "1268        466147 2017-09-14 15:58:00-03:00     0.0      0.0\n",
       "1269        466147 2017-09-14 15:59:00-03:00     0.0      0.0"
      ]
     },
     "execution_count": 44,
     "metadata": {},
     "output_type": "execute_result"
    }
   ],
   "source": [
    "# Validate the previous long gap\n",
    "data_resampled_refilled.iloc[1250:1270]"
   ]
  },
  {
   "cell_type": "code",
   "execution_count": 45,
   "metadata": {
    "ExecuteTime": {
     "end_time": "2020-08-18T21:55:42.667870Z",
     "start_time": "2020-08-18T21:55:42.600785Z"
    }
   },
   "outputs": [
    {
     "data": {
      "text/plain": [
       "0"
      ]
     },
     "execution_count": 45,
     "metadata": {},
     "output_type": "execute_result"
    }
   ],
   "source": [
    "# validate number of NaNs\n",
    "data_resampled_refilled[data_resampled_refilled.value.isnull()].shape[0]"
   ]
  },
  {
   "cell_type": "code",
   "execution_count": null,
   "metadata": {
    "ExecuteTime": {
     "end_time": "2020-08-18T21:06:50.903378Z",
     "start_time": "2020-08-18T21:01:49.797Z"
    }
   },
   "outputs": [],
   "source": [
    "# END"
   ]
  }
 ],
 "metadata": {
  "hide_input": false,
  "kernelspec": {
   "display_name": "Python 3",
   "language": "python",
   "name": "python3"
  },
  "language_info": {
   "codemirror_mode": {
    "name": "ipython",
    "version": 3
   },
   "file_extension": ".py",
   "mimetype": "text/x-python",
   "name": "python",
   "nbconvert_exporter": "python",
   "pygments_lexer": "ipython3",
   "version": "3.7.3"
  },
  "toc": {
   "base_numbering": 1,
   "nav_menu": {},
   "number_sections": true,
   "sideBar": true,
   "skip_h1_title": false,
   "title_cell": "Table of Contents",
   "title_sidebar": "Contents",
   "toc_cell": false,
   "toc_position": {},
   "toc_section_display": true,
   "toc_window_display": false
  },
  "varInspector": {
   "cols": {
    "lenName": 16,
    "lenType": 16,
    "lenVar": 40
   },
   "kernels_config": {
    "python": {
     "delete_cmd_postfix": "",
     "delete_cmd_prefix": "del ",
     "library": "var_list.py",
     "varRefreshCmd": "print(var_dic_list())"
    },
    "r": {
     "delete_cmd_postfix": ") ",
     "delete_cmd_prefix": "rm(",
     "library": "var_list.r",
     "varRefreshCmd": "cat(var_dic_list()) "
    }
   },
   "types_to_exclude": [
    "module",
    "function",
    "builtin_function_or_method",
    "instance",
    "_Feature"
   ],
   "window_display": false
  }
 },
 "nbformat": 4,
 "nbformat_minor": 4
}
